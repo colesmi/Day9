{
 "cells": [
  {
   "cell_type": "markdown",
   "id": "7e18bd76-a0b5-40db-bfe9-252e676e51bb",
   "metadata": {},
   "source": [
    "## Introduction to Data Science\n",
    "\n",
    "#### University of Redlands - DATA 101\n",
    "#### Prof: Joanna Bieri [joanna_bieri@redlands.edu](mailto:joanna_bieri@redlands.edu)\n",
    "#### [Class Website: data101.joannabieri.com](https://joannabieri.com/data101.html)\n",
    "\n",
    "---------------------------------------\n",
    "# Homework Day 9\n",
    "---------------------------------------\n",
    "\n",
    "GOALS:\n",
    "\n",
    "1. Import a messy DataFrame and fix it\n",
    "2. Try a pivot\n",
    "3. Play around with more advanced graphing and plotting\n",
    "\n",
    "----------------------------------------------------------\n",
    "\n",
    "This homework has **5 questions** and **2 exercises**.\n",
    "\n",
    "NOTE: Be kind to yourself. Working with data can be hard! Every data set is different. **Seriously** come get help! Come to lab!"
   ]
  },
  {
   "cell_type": "markdown",
   "id": "d0c422e3-32b1-452f-89a8-2586784d3957",
   "metadata": {},
   "source": [
    "## Important Information\n",
    "\n",
    "- Email: [joanna_bieri@redlands.edu](mailto:joanna_bieri@redlands.edu)\n",
    "- Office Hours: Duke 209 <a href=\"https://joannabieri.com/schedule.html\"> Click Here for Joanna's Schedule</a>\n",
    "\n",
    "\n",
    "## Announcements\n",
    "\n",
    "**Next week - Data Ethics** You should have some resources (book or 3-4 articles) about some area of data science ethics/impacts.\n",
    "\n",
    "## Day 9 Assignment - same drill.\n",
    "\n",
    "1. Make sure you can **Fork** and **Clone** the Day9 repo from [Redlands-DATA101](https://github.com/Redlands-DATA101)\n",
    "2. Open the file Day9-HW.ipynb and start doing the problems.\n",
    "    * You can do these problems as you follow along with the lecture notes and video.\n",
    "3. Get as far as you can before class.\n",
    "4. Submit what you have so far **Commit** and **Push** to Git.\n",
    "5. Take the daily check in quiz on **Canvas**.\n",
    "7. Come to class with lots of questions!"
   ]
  },
  {
   "cell_type": "code",
   "execution_count": 1,
   "id": "d0153569-41e3-4696-9b34-83ba90a0b5cf",
   "metadata": {},
   "outputs": [],
   "source": [
    "import numpy as np\n",
    "import pandas as pd\n",
    "\n",
    "import matplotlib.pyplot as plt\n",
    "import plotly.express as px\n",
    "from plotly.subplots import make_subplots\n",
    "import plotly.io as pio\n",
    "pio.renderers.defaule = 'colab'\n",
    "\n",
    "from itables import show"
   ]
  },
  {
   "cell_type": "markdown",
   "id": "21c16f48-0001-406e-acbf-d3e3ee536be2",
   "metadata": {},
   "source": [
    "## Data Science Visualization - from start to finish\n",
    "\n",
    "Today we will do a fill analysis where we will import data, do some data cleaning (recoding), and then walk through how to create a really beautiful visualization. \n",
    "\n",
    "Survey of religious traditions and income.\n",
    "\n",
    "Source: [pewforum.org/religious-landscape-study/income-distribution](https://www.pewforum.org/religious-landscape-study/income-distribution/), Retrieved 14 April, 2020\n",
    "\n",
    "This data is saved in a .xlsx file that is in the data folder that you downloaded.\n",
    "\n",
    "To use pd.read_excel() we need to download the openpyxl package:"
   ]
  },
  {
   "cell_type": "code",
   "execution_count": 3,
   "id": "4a062b2d-8c9e-4b50-9e90-14be5afa37b0",
   "metadata": {},
   "outputs": [
    {
     "name": "stdout",
     "output_type": "stream",
     "text": [
      "Retrieving notices: ...working... done\n",
      "Channels:\n",
      " - conda-forge\n",
      " - defaults\n",
      "Platform: osx-64\n",
      "Collecting package metadata (repodata.json): done\n",
      "Solving environment: done\n",
      "\n",
      "## Package Plan ##\n",
      "\n",
      "  environment location: /opt/anaconda3\n",
      "\n",
      "  added / updated specs:\n",
      "    - openpyxl\n",
      "\n",
      "\n",
      "The following packages will be downloaded:\n",
      "\n",
      "    package                    |            build\n",
      "    ---------------------------|-----------------\n",
      "    conda-24.9.1               |  py312hb401068_0         1.1 MB  conda-forge\n",
      "    openpyxl-3.1.5             |  py312h732d5f6_1         639 KB  conda-forge\n",
      "    ------------------------------------------------------------\n",
      "                                           Total:         1.7 MB\n",
      "\n",
      "The following packages will be UPDATED:\n",
      "\n",
      "  conda                              24.7.1-py312hb401068_0 --> 24.9.1-py312hb401068_0 \n",
      "  openpyxl           pkgs/main::openpyxl-3.1.2-py312h6c40b~ --> conda-forge::openpyxl-3.1.5-py312h732d5f6_1 \n",
      "\n",
      "\n",
      "\n",
      "Downloading and Extracting Packages:\n",
      "conda-24.9.1         | 1.1 MB    |                                       |   0% \n",
      "openpyxl-3.1.5       | 639 KB    |                                       |   0% \u001b[A\n",
      "conda-24.9.1         | 1.1 MB    | 5                                     |   1% \u001b[A\n",
      "openpyxl-3.1.5       | 639 KB    | ##################################### | 100% \u001b[A\n",
      "                                                                                \u001b[A\n",
      "                                                                                \u001b[A\n",
      "Preparing transaction: done\n",
      "Verifying transaction: done\n",
      "Executing transaction: done\n"
     ]
    }
   ],
   "source": [
    "!conda install -y openpyxl"
   ]
  },
  {
   "cell_type": "code",
   "execution_count": 5,
   "id": "e818c708-fe07-455e-b194-2b060962d799",
   "metadata": {},
   "outputs": [],
   "source": [
    "file_name = 'data/relig-income.xlsx'\n",
    "DF = pd.read_excel(file_name)"
   ]
  },
  {
   "cell_type": "code",
   "execution_count": 7,
   "id": "b78325a5-6430-43ca-992d-6f2c8eb608e7",
   "metadata": {},
   "outputs": [
    {
     "data": {
      "text/html": [
       "<table id=\"itables_998a79f1_bcb5_4666_8a46_04fac8b149f2\" class=\"display nowrap\" data-quarto-disable-processing=\"true\" style=\"table-layout:auto;width:auto;margin:auto;caption-side:bottom\">\n",
       "<thead>\n",
       "    <tr style=\"text-align: right;\">\n",
       "      \n",
       "      <th>Religious tradition</th>\n",
       "      <th>Less than $30,000</th>\n",
       "      <th>$30,000-$49,999</th>\n",
       "      <th>$50,000-$99,999</th>\n",
       "      <th>$100,000 or more</th>\n",
       "      <th>Sample Size</th>\n",
       "    </tr>\n",
       "  </thead><tbody><tr>\n",
       "<td style=\"vertical-align:middle; text-align:left\">\n",
       "<div style=\"float:left; margin-right: 10px;\">\n",
       "<a href=https://mwouts.github.io/itables/><svg class=\"main-svg\" xmlns=\"http://www.w3.org/2000/svg\" xmlns:xlink=\"http://www.w3.org/1999/xlink\"\n",
       "width=\"64\" viewBox=\"0 0 500 400\" style=\"font-family: 'Droid Sans', sans-serif;\">\n",
       "    <g style=\"fill:#d9d7fc\">\n",
       "        <path d=\"M100,400H500V357H100Z\" />\n",
       "        <path d=\"M100,300H400V257H100Z\" />\n",
       "        <path d=\"M0,200H400V157H0Z\" />\n",
       "        <path d=\"M100,100H500V57H100Z\" />\n",
       "        <path d=\"M100,350H500V307H100Z\" />\n",
       "        <path d=\"M100,250H400V207H100Z\" />\n",
       "        <path d=\"M0,150H400V107H0Z\" />\n",
       "        <path d=\"M100,50H500V7H100Z\" />\n",
       "    </g>\n",
       "    <g style=\"fill:#1a1366;stroke:#1a1366;\">\n",
       "   <rect x=\"100\" y=\"7\" width=\"400\" height=\"43\">\n",
       "    <animate\n",
       "      attributeName=\"width\"\n",
       "      values=\"0;400;0\"\n",
       "      dur=\"5s\"\n",
       "      repeatCount=\"indefinite\" />\n",
       "      <animate\n",
       "      attributeName=\"x\"\n",
       "      values=\"100;100;500\"\n",
       "      dur=\"5s\"\n",
       "      repeatCount=\"indefinite\" />\n",
       "  </rect>\n",
       "        <rect x=\"0\" y=\"107\" width=\"400\" height=\"43\">\n",
       "    <animate\n",
       "      attributeName=\"width\"\n",
       "      values=\"0;400;0\"\n",
       "      dur=\"3.5s\"\n",
       "      repeatCount=\"indefinite\" />\n",
       "    <animate\n",
       "      attributeName=\"x\"\n",
       "      values=\"0;0;400\"\n",
       "      dur=\"3.5s\"\n",
       "      repeatCount=\"indefinite\" />\n",
       "  </rect>\n",
       "        <rect x=\"100\" y=\"207\" width=\"300\" height=\"43\">\n",
       "    <animate\n",
       "      attributeName=\"width\"\n",
       "      values=\"0;300;0\"\n",
       "      dur=\"3s\"\n",
       "      repeatCount=\"indefinite\" />\n",
       "    <animate\n",
       "      attributeName=\"x\"\n",
       "      values=\"100;100;400\"\n",
       "      dur=\"3s\"\n",
       "      repeatCount=\"indefinite\" />\n",
       "  </rect>\n",
       "        <rect x=\"100\" y=\"307\" width=\"400\" height=\"43\">\n",
       "    <animate\n",
       "      attributeName=\"width\"\n",
       "      values=\"0;400;0\"\n",
       "      dur=\"4s\"\n",
       "      repeatCount=\"indefinite\" />\n",
       "      <animate\n",
       "      attributeName=\"x\"\n",
       "      values=\"100;100;500\"\n",
       "      dur=\"4s\"\n",
       "      repeatCount=\"indefinite\" />\n",
       "  </rect>\n",
       "        <g style=\"fill:transparent;stroke-width:8; stroke-linejoin:round\" rx=\"5\">\n",
       "            <g transform=\"translate(45 50) rotate(-45)\">\n",
       "                <circle r=\"33\" cx=\"0\" cy=\"0\" />\n",
       "                <rect x=\"-8\" y=\"32\" width=\"16\" height=\"30\" />\n",
       "            </g>\n",
       "\n",
       "            <g transform=\"translate(450 152)\">\n",
       "                <polyline points=\"-15,-20 -35,-20 -35,40 25,40 25,20\" />\n",
       "                <rect x=\"-15\" y=\"-40\" width=\"60\" height=\"60\" />\n",
       "            </g>\n",
       "\n",
       "            <g transform=\"translate(50 352)\">\n",
       "                <polygon points=\"-35,-5 0,-40 35,-5\" />\n",
       "                <polygon points=\"-35,10 0,45 35,10\" />\n",
       "            </g>\n",
       "\n",
       "            <g transform=\"translate(75 250)\">\n",
       "                <polyline points=\"-30,30 -60,0 -30,-30\" />\n",
       "                <polyline points=\"0,30 -30,0 0,-30\" />\n",
       "            </g>\n",
       "\n",
       "            <g transform=\"translate(425 250) rotate(180)\">\n",
       "                <polyline points=\"-30,30 -60,0 -30,-30\" />\n",
       "                <polyline points=\"0,30 -30,0 0,-30\" />\n",
       "            </g>\n",
       "        </g>\n",
       "    </g>\n",
       "</svg>\n",
       "</a>\n",
       "</div>\n",
       "<div>\n",
       "Loading ITables v2.1.4 from the internet...\n",
       "(need <a href=https://mwouts.github.io/itables/troubleshooting.html>help</a>?)</td>\n",
       "</div>\n",
       "</tr></tbody>\n",
       "\n",
       "</table>\n",
       "<link href=\"https://www.unpkg.com/dt_for_itables@2.0.11/dt_bundle.css\" rel=\"stylesheet\">\n",
       "<script type=\"module\">\n",
       "    import {DataTable, jQuery as $} from 'https://www.unpkg.com/dt_for_itables@2.0.11/dt_bundle.js';\n",
       "\n",
       "    document.querySelectorAll(\"#itables_998a79f1_bcb5_4666_8a46_04fac8b149f2:not(.dataTable)\").forEach(table => {\n",
       "        // Define the table data\n",
       "        const data = [[\"Buddhist\", 0.36, 0.18, 0.32, 0.13, 233], [\"Catholic\", 0.36, 0.19, 0.26, 0.19, 6137], [\"Evangelical Protestant\", 0.35, 0.22, 0.28, 0.14, 7462], [\"Hindu\", 0.17, 0.13, 0.34, 0.36, 172], [\"Historically Black Protestant\", 0.53, 0.22, 0.17, 0.08, 1704], [\"Jehovah's Witness\", 0.48, 0.25, 0.22, 0.04, 208], [\"Jewish\", 0.16, 0.15, 0.24, 0.44, 708], [\"Mainline Protestant\", 0.29, 0.2, 0.28, 0.23, 5208], [\"Mormon\", 0.27, 0.2, 0.33, 0.2, 594], [\"Muslim\", 0.34, 0.17, 0.29, 0.2, 205], [\"Orthodox Christian\", 0.18, 0.17, 0.36, 0.29, 155], [\"Unaffiliated (religious \\\"nones\\\")\", 0.33, 0.2, 0.26, 0.21, 6790]];\n",
       "\n",
       "        // Define the dt_args\n",
       "        let dt_args = {\"layout\": {\"topStart\": \"pageLength\", \"topEnd\": \"search\", \"bottomStart\": \"info\", \"bottomEnd\": \"paging\"}, \"order\": []};\n",
       "        dt_args[\"data\"] = data;\n",
       "\n",
       "        \n",
       "        new DataTable(table, dt_args);\n",
       "    });\n",
       "</script>\n"
      ],
      "text/plain": [
       "<IPython.core.display.HTML object>"
      ]
     },
     "metadata": {},
     "output_type": "display_data"
    }
   ],
   "source": [
    "show(DF)"
   ]
  },
  {
   "cell_type": "code",
   "execution_count": 9,
   "id": "207ea788-0514-4790-935d-47c29804adaf",
   "metadata": {},
   "outputs": [
    {
     "data": {
      "text/plain": [
       "(12, 6)"
      ]
     },
     "execution_count": 9,
     "metadata": {},
     "output_type": "execute_result"
    }
   ],
   "source": [
    "DF.shape"
   ]
  },
  {
   "cell_type": "markdown",
   "id": "e52bac02-9991-4218-9142-5aa75c7b33fd",
   "metadata": {},
   "source": [
    "**Q1** Describe the data you see here. How many variables and observations. What are the data types? What are the units?"
   ]
  },
  {
   "cell_type": "markdown",
   "id": "ab893dad-26b4-4dae-bb3c-d4dafeead8e3",
   "metadata": {},
   "source": [
    "6 columns, 12 rows. \n",
    "\n",
    "Each row is a different religion, with each column being the percentage of followers that earn within that range, with a final column including the sample size. \n",
    "Religious tradition is catergorical, rest of the columns are numerical. "
   ]
  },
  {
   "cell_type": "markdown",
   "id": "fd16d63e-87ab-4ac3-98d4-95543d5cd66f",
   "metadata": {},
   "source": [
    "**Q2** Following along with the lecture, say in words what each section of the code below does:\n",
    "\n",
    "\n",
    "* Section 1 - Renames the first and last columns to 'religion' and 'n' respectively. \n",
    "* Section 2 - Melts the data from the current DF into one made up of only four columns, treating each piece of percentage data as its own entry, then sorting by religion. \n",
    "* Section 3 - Making a new column named 'frequency' by mulitplying the percentage by the sample size to get the actual number.\n",
    "* Section 4 - Removing dollar signs for clarity \n",
    "* Section 5 - Reorders the data to make current sort standard. \n",
    "* Section 6 - Renaming data wihtin 'religion' column to be more pleasing and easier to read.\n",
    "* Section 7 - Renaming data wihtin 'religion' column to be more pleasing and easier to read.\n",
    "* Section 8 - Renaming data wihtin 'religion' column to be more pleasing and easier to read."
   ]
  },
  {
   "cell_type": "code",
   "execution_count": 14,
   "id": "e0abf6ff-b2e9-4849-b3ec-158e722acb18",
   "metadata": {},
   "outputs": [
    {
     "data": {
      "text/html": [
       "<div>\n",
       "<style scoped>\n",
       "    .dataframe tbody tr th:only-of-type {\n",
       "        vertical-align: middle;\n",
       "    }\n",
       "\n",
       "    .dataframe tbody tr th {\n",
       "        vertical-align: top;\n",
       "    }\n",
       "\n",
       "    .dataframe thead th {\n",
       "        text-align: right;\n",
       "    }\n",
       "</style>\n",
       "<table border=\"1\" class=\"dataframe\">\n",
       "  <thead>\n",
       "    <tr style=\"text-align: right;\">\n",
       "      <th></th>\n",
       "      <th>index</th>\n",
       "      <th>religion</th>\n",
       "      <th>n</th>\n",
       "      <th>income</th>\n",
       "      <th>proportion</th>\n",
       "      <th>frequency</th>\n",
       "    </tr>\n",
       "  </thead>\n",
       "  <tbody>\n",
       "    <tr>\n",
       "      <th>0</th>\n",
       "      <td>0</td>\n",
       "      <td>Buddhist</td>\n",
       "      <td>233</td>\n",
       "      <td>Less than 30,000</td>\n",
       "      <td>0.36</td>\n",
       "      <td>84.0</td>\n",
       "    </tr>\n",
       "    <tr>\n",
       "      <th>1</th>\n",
       "      <td>24</td>\n",
       "      <td>Buddhist</td>\n",
       "      <td>233</td>\n",
       "      <td>50,000-99,999</td>\n",
       "      <td>0.32</td>\n",
       "      <td>75.0</td>\n",
       "    </tr>\n",
       "    <tr>\n",
       "      <th>2</th>\n",
       "      <td>36</td>\n",
       "      <td>Buddhist</td>\n",
       "      <td>233</td>\n",
       "      <td>100,000 or more</td>\n",
       "      <td>0.13</td>\n",
       "      <td>30.0</td>\n",
       "    </tr>\n",
       "    <tr>\n",
       "      <th>3</th>\n",
       "      <td>12</td>\n",
       "      <td>Buddhist</td>\n",
       "      <td>233</td>\n",
       "      <td>30,000-49,999</td>\n",
       "      <td>0.18</td>\n",
       "      <td>42.0</td>\n",
       "    </tr>\n",
       "    <tr>\n",
       "      <th>4</th>\n",
       "      <td>1</td>\n",
       "      <td>Catholic</td>\n",
       "      <td>6137</td>\n",
       "      <td>Less than 30,000</td>\n",
       "      <td>0.36</td>\n",
       "      <td>2209.0</td>\n",
       "    </tr>\n",
       "    <tr>\n",
       "      <th>5</th>\n",
       "      <td>25</td>\n",
       "      <td>Catholic</td>\n",
       "      <td>6137</td>\n",
       "      <td>50,000-99,999</td>\n",
       "      <td>0.26</td>\n",
       "      <td>1596.0</td>\n",
       "    </tr>\n",
       "    <tr>\n",
       "      <th>6</th>\n",
       "      <td>13</td>\n",
       "      <td>Catholic</td>\n",
       "      <td>6137</td>\n",
       "      <td>30,000-49,999</td>\n",
       "      <td>0.19</td>\n",
       "      <td>1166.0</td>\n",
       "    </tr>\n",
       "    <tr>\n",
       "      <th>7</th>\n",
       "      <td>37</td>\n",
       "      <td>Catholic</td>\n",
       "      <td>6137</td>\n",
       "      <td>100,000 or more</td>\n",
       "      <td>0.19</td>\n",
       "      <td>1166.0</td>\n",
       "    </tr>\n",
       "    <tr>\n",
       "      <th>8</th>\n",
       "      <td>26</td>\n",
       "      <td>Ev. Protestant</td>\n",
       "      <td>7462</td>\n",
       "      <td>50,000-99,999</td>\n",
       "      <td>0.28</td>\n",
       "      <td>2089.0</td>\n",
       "    </tr>\n",
       "    <tr>\n",
       "      <th>9</th>\n",
       "      <td>38</td>\n",
       "      <td>Ev. Protestant</td>\n",
       "      <td>7462</td>\n",
       "      <td>100,000 or more</td>\n",
       "      <td>0.14</td>\n",
       "      <td>1045.0</td>\n",
       "    </tr>\n",
       "    <tr>\n",
       "      <th>10</th>\n",
       "      <td>14</td>\n",
       "      <td>Ev. Protestant</td>\n",
       "      <td>7462</td>\n",
       "      <td>30,000-49,999</td>\n",
       "      <td>0.22</td>\n",
       "      <td>1642.0</td>\n",
       "    </tr>\n",
       "    <tr>\n",
       "      <th>11</th>\n",
       "      <td>2</td>\n",
       "      <td>Ev. Protestant</td>\n",
       "      <td>7462</td>\n",
       "      <td>Less than 30,000</td>\n",
       "      <td>0.35</td>\n",
       "      <td>2612.0</td>\n",
       "    </tr>\n",
       "    <tr>\n",
       "      <th>12</th>\n",
       "      <td>3</td>\n",
       "      <td>Hindu</td>\n",
       "      <td>172</td>\n",
       "      <td>Less than 30,000</td>\n",
       "      <td>0.17</td>\n",
       "      <td>29.0</td>\n",
       "    </tr>\n",
       "    <tr>\n",
       "      <th>13</th>\n",
       "      <td>27</td>\n",
       "      <td>Hindu</td>\n",
       "      <td>172</td>\n",
       "      <td>50,000-99,999</td>\n",
       "      <td>0.34</td>\n",
       "      <td>58.0</td>\n",
       "    </tr>\n",
       "    <tr>\n",
       "      <th>14</th>\n",
       "      <td>15</td>\n",
       "      <td>Hindu</td>\n",
       "      <td>172</td>\n",
       "      <td>30,000-49,999</td>\n",
       "      <td>0.13</td>\n",
       "      <td>22.0</td>\n",
       "    </tr>\n",
       "    <tr>\n",
       "      <th>15</th>\n",
       "      <td>39</td>\n",
       "      <td>Hindu</td>\n",
       "      <td>172</td>\n",
       "      <td>100,000 or more</td>\n",
       "      <td>0.36</td>\n",
       "      <td>62.0</td>\n",
       "    </tr>\n",
       "    <tr>\n",
       "      <th>16</th>\n",
       "      <td>40</td>\n",
       "      <td>Hist. Black Protestant</td>\n",
       "      <td>1704</td>\n",
       "      <td>100,000 or more</td>\n",
       "      <td>0.08</td>\n",
       "      <td>136.0</td>\n",
       "    </tr>\n",
       "    <tr>\n",
       "      <th>17</th>\n",
       "      <td>4</td>\n",
       "      <td>Hist. Black Protestant</td>\n",
       "      <td>1704</td>\n",
       "      <td>Less than 30,000</td>\n",
       "      <td>0.53</td>\n",
       "      <td>903.0</td>\n",
       "    </tr>\n",
       "    <tr>\n",
       "      <th>18</th>\n",
       "      <td>28</td>\n",
       "      <td>Hist. Black Protestant</td>\n",
       "      <td>1704</td>\n",
       "      <td>50,000-99,999</td>\n",
       "      <td>0.17</td>\n",
       "      <td>290.0</td>\n",
       "    </tr>\n",
       "    <tr>\n",
       "      <th>19</th>\n",
       "      <td>16</td>\n",
       "      <td>Hist. Black Protestant</td>\n",
       "      <td>1704</td>\n",
       "      <td>30,000-49,999</td>\n",
       "      <td>0.22</td>\n",
       "      <td>375.0</td>\n",
       "    </tr>\n",
       "    <tr>\n",
       "      <th>20</th>\n",
       "      <td>17</td>\n",
       "      <td>Jehovah's Witness</td>\n",
       "      <td>208</td>\n",
       "      <td>30,000-49,999</td>\n",
       "      <td>0.25</td>\n",
       "      <td>52.0</td>\n",
       "    </tr>\n",
       "    <tr>\n",
       "      <th>21</th>\n",
       "      <td>29</td>\n",
       "      <td>Jehovah's Witness</td>\n",
       "      <td>208</td>\n",
       "      <td>50,000-99,999</td>\n",
       "      <td>0.22</td>\n",
       "      <td>46.0</td>\n",
       "    </tr>\n",
       "    <tr>\n",
       "      <th>22</th>\n",
       "      <td>41</td>\n",
       "      <td>Jehovah's Witness</td>\n",
       "      <td>208</td>\n",
       "      <td>100,000 or more</td>\n",
       "      <td>0.04</td>\n",
       "      <td>8.0</td>\n",
       "    </tr>\n",
       "    <tr>\n",
       "      <th>23</th>\n",
       "      <td>5</td>\n",
       "      <td>Jehovah's Witness</td>\n",
       "      <td>208</td>\n",
       "      <td>Less than 30,000</td>\n",
       "      <td>0.48</td>\n",
       "      <td>100.0</td>\n",
       "    </tr>\n",
       "    <tr>\n",
       "      <th>24</th>\n",
       "      <td>42</td>\n",
       "      <td>Jewish</td>\n",
       "      <td>708</td>\n",
       "      <td>100,000 or more</td>\n",
       "      <td>0.44</td>\n",
       "      <td>312.0</td>\n",
       "    </tr>\n",
       "    <tr>\n",
       "      <th>25</th>\n",
       "      <td>30</td>\n",
       "      <td>Jewish</td>\n",
       "      <td>708</td>\n",
       "      <td>50,000-99,999</td>\n",
       "      <td>0.24</td>\n",
       "      <td>170.0</td>\n",
       "    </tr>\n",
       "    <tr>\n",
       "      <th>26</th>\n",
       "      <td>6</td>\n",
       "      <td>Jewish</td>\n",
       "      <td>708</td>\n",
       "      <td>Less than 30,000</td>\n",
       "      <td>0.16</td>\n",
       "      <td>113.0</td>\n",
       "    </tr>\n",
       "    <tr>\n",
       "      <th>27</th>\n",
       "      <td>18</td>\n",
       "      <td>Jewish</td>\n",
       "      <td>708</td>\n",
       "      <td>30,000-49,999</td>\n",
       "      <td>0.15</td>\n",
       "      <td>106.0</td>\n",
       "    </tr>\n",
       "    <tr>\n",
       "      <th>28</th>\n",
       "      <td>31</td>\n",
       "      <td>Mainline Protestant</td>\n",
       "      <td>5208</td>\n",
       "      <td>50,000-99,999</td>\n",
       "      <td>0.28</td>\n",
       "      <td>1458.0</td>\n",
       "    </tr>\n",
       "    <tr>\n",
       "      <th>29</th>\n",
       "      <td>43</td>\n",
       "      <td>Mainline Protestant</td>\n",
       "      <td>5208</td>\n",
       "      <td>100,000 or more</td>\n",
       "      <td>0.23</td>\n",
       "      <td>1198.0</td>\n",
       "    </tr>\n",
       "    <tr>\n",
       "      <th>30</th>\n",
       "      <td>19</td>\n",
       "      <td>Mainline Protestant</td>\n",
       "      <td>5208</td>\n",
       "      <td>30,000-49,999</td>\n",
       "      <td>0.20</td>\n",
       "      <td>1042.0</td>\n",
       "    </tr>\n",
       "    <tr>\n",
       "      <th>31</th>\n",
       "      <td>7</td>\n",
       "      <td>Mainline Protestant</td>\n",
       "      <td>5208</td>\n",
       "      <td>Less than 30,000</td>\n",
       "      <td>0.29</td>\n",
       "      <td>1510.0</td>\n",
       "    </tr>\n",
       "    <tr>\n",
       "      <th>32</th>\n",
       "      <td>20</td>\n",
       "      <td>Mormon</td>\n",
       "      <td>594</td>\n",
       "      <td>30,000-49,999</td>\n",
       "      <td>0.20</td>\n",
       "      <td>119.0</td>\n",
       "    </tr>\n",
       "    <tr>\n",
       "      <th>33</th>\n",
       "      <td>32</td>\n",
       "      <td>Mormon</td>\n",
       "      <td>594</td>\n",
       "      <td>50,000-99,999</td>\n",
       "      <td>0.33</td>\n",
       "      <td>196.0</td>\n",
       "    </tr>\n",
       "    <tr>\n",
       "      <th>34</th>\n",
       "      <td>44</td>\n",
       "      <td>Mormon</td>\n",
       "      <td>594</td>\n",
       "      <td>100,000 or more</td>\n",
       "      <td>0.20</td>\n",
       "      <td>119.0</td>\n",
       "    </tr>\n",
       "    <tr>\n",
       "      <th>35</th>\n",
       "      <td>8</td>\n",
       "      <td>Mormon</td>\n",
       "      <td>594</td>\n",
       "      <td>Less than 30,000</td>\n",
       "      <td>0.27</td>\n",
       "      <td>160.0</td>\n",
       "    </tr>\n",
       "    <tr>\n",
       "      <th>36</th>\n",
       "      <td>33</td>\n",
       "      <td>Muslim</td>\n",
       "      <td>205</td>\n",
       "      <td>50,000-99,999</td>\n",
       "      <td>0.29</td>\n",
       "      <td>59.0</td>\n",
       "    </tr>\n",
       "    <tr>\n",
       "      <th>37</th>\n",
       "      <td>45</td>\n",
       "      <td>Muslim</td>\n",
       "      <td>205</td>\n",
       "      <td>100,000 or more</td>\n",
       "      <td>0.20</td>\n",
       "      <td>41.0</td>\n",
       "    </tr>\n",
       "    <tr>\n",
       "      <th>38</th>\n",
       "      <td>9</td>\n",
       "      <td>Muslim</td>\n",
       "      <td>205</td>\n",
       "      <td>Less than 30,000</td>\n",
       "      <td>0.34</td>\n",
       "      <td>70.0</td>\n",
       "    </tr>\n",
       "    <tr>\n",
       "      <th>39</th>\n",
       "      <td>21</td>\n",
       "      <td>Muslim</td>\n",
       "      <td>205</td>\n",
       "      <td>30,000-49,999</td>\n",
       "      <td>0.17</td>\n",
       "      <td>35.0</td>\n",
       "    </tr>\n",
       "    <tr>\n",
       "      <th>40</th>\n",
       "      <td>22</td>\n",
       "      <td>Orthodox Christian</td>\n",
       "      <td>155</td>\n",
       "      <td>30,000-49,999</td>\n",
       "      <td>0.17</td>\n",
       "      <td>26.0</td>\n",
       "    </tr>\n",
       "    <tr>\n",
       "      <th>41</th>\n",
       "      <td>34</td>\n",
       "      <td>Orthodox Christian</td>\n",
       "      <td>155</td>\n",
       "      <td>50,000-99,999</td>\n",
       "      <td>0.36</td>\n",
       "      <td>56.0</td>\n",
       "    </tr>\n",
       "    <tr>\n",
       "      <th>42</th>\n",
       "      <td>10</td>\n",
       "      <td>Orthodox Christian</td>\n",
       "      <td>155</td>\n",
       "      <td>Less than 30,000</td>\n",
       "      <td>0.18</td>\n",
       "      <td>28.0</td>\n",
       "    </tr>\n",
       "    <tr>\n",
       "      <th>43</th>\n",
       "      <td>46</td>\n",
       "      <td>Orthodox Christian</td>\n",
       "      <td>155</td>\n",
       "      <td>100,000 or more</td>\n",
       "      <td>0.29</td>\n",
       "      <td>45.0</td>\n",
       "    </tr>\n",
       "    <tr>\n",
       "      <th>44</th>\n",
       "      <td>23</td>\n",
       "      <td>Unaffiliated</td>\n",
       "      <td>6790</td>\n",
       "      <td>30,000-49,999</td>\n",
       "      <td>0.20</td>\n",
       "      <td>1358.0</td>\n",
       "    </tr>\n",
       "    <tr>\n",
       "      <th>45</th>\n",
       "      <td>11</td>\n",
       "      <td>Unaffiliated</td>\n",
       "      <td>6790</td>\n",
       "      <td>Less than 30,000</td>\n",
       "      <td>0.33</td>\n",
       "      <td>2241.0</td>\n",
       "    </tr>\n",
       "    <tr>\n",
       "      <th>46</th>\n",
       "      <td>35</td>\n",
       "      <td>Unaffiliated</td>\n",
       "      <td>6790</td>\n",
       "      <td>50,000-99,999</td>\n",
       "      <td>0.26</td>\n",
       "      <td>1765.0</td>\n",
       "    </tr>\n",
       "    <tr>\n",
       "      <th>47</th>\n",
       "      <td>47</td>\n",
       "      <td>Unaffiliated</td>\n",
       "      <td>6790</td>\n",
       "      <td>100,000 or more</td>\n",
       "      <td>0.21</td>\n",
       "      <td>1426.0</td>\n",
       "    </tr>\n",
       "  </tbody>\n",
       "</table>\n",
       "</div>"
      ],
      "text/plain": [
       "    index                religion     n            income  proportion  \\\n",
       "0       0                Buddhist   233  Less than 30,000        0.36   \n",
       "1      24                Buddhist   233     50,000-99,999        0.32   \n",
       "2      36                Buddhist   233   100,000 or more        0.13   \n",
       "3      12                Buddhist   233     30,000-49,999        0.18   \n",
       "4       1                Catholic  6137  Less than 30,000        0.36   \n",
       "5      25                Catholic  6137     50,000-99,999        0.26   \n",
       "6      13                Catholic  6137     30,000-49,999        0.19   \n",
       "7      37                Catholic  6137   100,000 or more        0.19   \n",
       "8      26          Ev. Protestant  7462     50,000-99,999        0.28   \n",
       "9      38          Ev. Protestant  7462   100,000 or more        0.14   \n",
       "10     14          Ev. Protestant  7462     30,000-49,999        0.22   \n",
       "11      2          Ev. Protestant  7462  Less than 30,000        0.35   \n",
       "12      3                   Hindu   172  Less than 30,000        0.17   \n",
       "13     27                   Hindu   172     50,000-99,999        0.34   \n",
       "14     15                   Hindu   172     30,000-49,999        0.13   \n",
       "15     39                   Hindu   172   100,000 or more        0.36   \n",
       "16     40  Hist. Black Protestant  1704   100,000 or more        0.08   \n",
       "17      4  Hist. Black Protestant  1704  Less than 30,000        0.53   \n",
       "18     28  Hist. Black Protestant  1704     50,000-99,999        0.17   \n",
       "19     16  Hist. Black Protestant  1704     30,000-49,999        0.22   \n",
       "20     17       Jehovah's Witness   208     30,000-49,999        0.25   \n",
       "21     29       Jehovah's Witness   208     50,000-99,999        0.22   \n",
       "22     41       Jehovah's Witness   208   100,000 or more        0.04   \n",
       "23      5       Jehovah's Witness   208  Less than 30,000        0.48   \n",
       "24     42                  Jewish   708   100,000 or more        0.44   \n",
       "25     30                  Jewish   708     50,000-99,999        0.24   \n",
       "26      6                  Jewish   708  Less than 30,000        0.16   \n",
       "27     18                  Jewish   708     30,000-49,999        0.15   \n",
       "28     31     Mainline Protestant  5208     50,000-99,999        0.28   \n",
       "29     43     Mainline Protestant  5208   100,000 or more        0.23   \n",
       "30     19     Mainline Protestant  5208     30,000-49,999        0.20   \n",
       "31      7     Mainline Protestant  5208  Less than 30,000        0.29   \n",
       "32     20                  Mormon   594     30,000-49,999        0.20   \n",
       "33     32                  Mormon   594     50,000-99,999        0.33   \n",
       "34     44                  Mormon   594   100,000 or more        0.20   \n",
       "35      8                  Mormon   594  Less than 30,000        0.27   \n",
       "36     33                  Muslim   205     50,000-99,999        0.29   \n",
       "37     45                  Muslim   205   100,000 or more        0.20   \n",
       "38      9                  Muslim   205  Less than 30,000        0.34   \n",
       "39     21                  Muslim   205     30,000-49,999        0.17   \n",
       "40     22      Orthodox Christian   155     30,000-49,999        0.17   \n",
       "41     34      Orthodox Christian   155     50,000-99,999        0.36   \n",
       "42     10      Orthodox Christian   155  Less than 30,000        0.18   \n",
       "43     46      Orthodox Christian   155   100,000 or more        0.29   \n",
       "44     23            Unaffiliated  6790     30,000-49,999        0.20   \n",
       "45     11            Unaffiliated  6790  Less than 30,000        0.33   \n",
       "46     35            Unaffiliated  6790     50,000-99,999        0.26   \n",
       "47     47            Unaffiliated  6790   100,000 or more        0.21   \n",
       "\n",
       "    frequency  \n",
       "0        84.0  \n",
       "1        75.0  \n",
       "2        30.0  \n",
       "3        42.0  \n",
       "4      2209.0  \n",
       "5      1596.0  \n",
       "6      1166.0  \n",
       "7      1166.0  \n",
       "8      2089.0  \n",
       "9      1045.0  \n",
       "10     1642.0  \n",
       "11     2612.0  \n",
       "12       29.0  \n",
       "13       58.0  \n",
       "14       22.0  \n",
       "15       62.0  \n",
       "16      136.0  \n",
       "17      903.0  \n",
       "18      290.0  \n",
       "19      375.0  \n",
       "20       52.0  \n",
       "21       46.0  \n",
       "22        8.0  \n",
       "23      100.0  \n",
       "24      312.0  \n",
       "25      170.0  \n",
       "26      113.0  \n",
       "27      106.0  \n",
       "28     1458.0  \n",
       "29     1198.0  \n",
       "30     1042.0  \n",
       "31     1510.0  \n",
       "32      119.0  \n",
       "33      196.0  \n",
       "34      119.0  \n",
       "35      160.0  \n",
       "36       59.0  \n",
       "37       41.0  \n",
       "38       70.0  \n",
       "39       35.0  \n",
       "40       26.0  \n",
       "41       56.0  \n",
       "42       28.0  \n",
       "43       45.0  \n",
       "44     1358.0  \n",
       "45     2241.0  \n",
       "46     1765.0  \n",
       "47     1426.0  "
      ]
     },
     "execution_count": 14,
     "metadata": {},
     "output_type": "execute_result"
    }
   ],
   "source": [
    "# Section 1\n",
    "DF.rename(columns={ 'Religious tradition':'religion' ,'Sample Size' : 'n' },inplace=True)\n",
    "# Section 2\n",
    "DF_new = pd.melt(DF, id_vars=['religion','n'], var_name='income', value_name='proportion').sort_values('religion')\n",
    "# Section 3\n",
    "DF_new['frequency']=np.round(DF_new['proportion']*DF_new['n'])\n",
    "# Section 4\n",
    "DF_new['income']=DF_new['income'].apply(lambda x: str(x).replace('$',''))\n",
    "# Section 5\n",
    "DF_new.reset_index(inplace=True)\n",
    "\n",
    "# Section 6\n",
    "name_to_change = 'Unaffiliated (religious \"nones\")'\n",
    "new_name = 'Unaffiliated'\n",
    "DF_new['religion']=DF_new['religion'].replace(name_to_change,new_name)\n",
    "\n",
    "# Section 7\n",
    "name_to_change =  'Historically Black Protestant'\n",
    "new_name = 'Hist. Black Protestant'\n",
    "DF_new['religion']=DF_new['religion'].replace(name_to_change,new_name)\n",
    "\n",
    "# Section 8\n",
    "name_to_change = 'Evangelical Protestant'\n",
    "new_name = 'Ev. Protestant'\n",
    "DF_new['religion']=DF_new['religion'].replace(name_to_change,new_name)\n",
    "\n",
    "DF_new"
   ]
  },
  {
   "cell_type": "markdown",
   "id": "37857e8f-ab26-4b41-a936-2c8d170a1875",
   "metadata": {},
   "source": [
    "## Make a Bar Plot\n"
   ]
  },
  {
   "cell_type": "markdown",
   "id": "1a1f4ae9-3ea9-4c08-bd15-0a24d9f674ef",
   "metadata": {},
   "source": [
    "## There are SO MANY CUSTOMIZATION OPTIONS!\n",
    "\n",
    "You are not expected to have all of these options memorized. You should just know that these things are possible and then look up examples for how to do fancier things. I always start simple and then add on from there.\n",
    "\n",
    "## Final Plot"
   ]
  },
  {
   "cell_type": "code",
   "execution_count": 63,
   "id": "4feea833-9437-4295-baa6-ce4a6ccae5a1",
   "metadata": {},
   "outputs": [
    {
     "data": {
      "application/vnd.plotly.v1+json": {
       "config": {
        "plotlyServerURL": "https://plot.ly"
       },
       "data": [
        {
         "alignmentgroup": "True",
         "hovertemplate": "income=Less than 30,000<br>proportion=%{x}<br>religion=%{y}<extra></extra>",
         "legendgroup": "Less than 30,000",
         "marker": {
          "color": "rgb(229, 134, 6)",
          "pattern": {
           "shape": ""
          }
         },
         "name": "Less than 30,000",
         "offsetgroup": "Less than 30,000",
         "orientation": "h",
         "showlegend": true,
         "textposition": "auto",
         "type": "bar",
         "x": [
          0.36,
          0.36,
          0.35,
          0.17,
          0.53,
          0.48,
          0.16,
          0.29,
          0.27,
          0.34,
          0.18,
          0.33
         ],
         "xaxis": "x",
         "y": [
          "Buddhist",
          "Catholic",
          "Ev. Protestant",
          "Hindu",
          "Hist. Black Protestant",
          "Jehovah's Witness",
          "Jewish",
          "Mainline Protestant",
          "Mormon",
          "Muslim",
          "Orthodox Christian",
          "Unaffiliated"
         ],
         "yaxis": "y"
        },
        {
         "alignmentgroup": "True",
         "hovertemplate": "income=30,000-49,999<br>proportion=%{x}<br>religion=%{y}<extra></extra>",
         "legendgroup": "30,000-49,999",
         "marker": {
          "color": "rgb(93, 105, 177)",
          "pattern": {
           "shape": ""
          }
         },
         "name": "30,000-49,999",
         "offsetgroup": "30,000-49,999",
         "orientation": "h",
         "showlegend": true,
         "textposition": "auto",
         "type": "bar",
         "x": [
          0.18,
          0.19,
          0.22,
          0.13,
          0.22,
          0.25,
          0.15,
          0.2,
          0.2,
          0.17,
          0.17,
          0.2
         ],
         "xaxis": "x",
         "y": [
          "Buddhist",
          "Catholic",
          "Ev. Protestant",
          "Hindu",
          "Hist. Black Protestant",
          "Jehovah's Witness",
          "Jewish",
          "Mainline Protestant",
          "Mormon",
          "Muslim",
          "Orthodox Christian",
          "Unaffiliated"
         ],
         "yaxis": "y"
        },
        {
         "alignmentgroup": "True",
         "hovertemplate": "income=50,000-99,999<br>proportion=%{x}<br>religion=%{y}<extra></extra>",
         "legendgroup": "50,000-99,999",
         "marker": {
          "color": "rgb(82, 188, 163)",
          "pattern": {
           "shape": ""
          }
         },
         "name": "50,000-99,999",
         "offsetgroup": "50,000-99,999",
         "orientation": "h",
         "showlegend": true,
         "textposition": "auto",
         "type": "bar",
         "x": [
          0.32,
          0.26,
          0.28,
          0.34,
          0.17,
          0.22,
          0.24,
          0.28,
          0.33,
          0.29,
          0.36,
          0.26
         ],
         "xaxis": "x",
         "y": [
          "Buddhist",
          "Catholic",
          "Ev. Protestant",
          "Hindu",
          "Hist. Black Protestant",
          "Jehovah's Witness",
          "Jewish",
          "Mainline Protestant",
          "Mormon",
          "Muslim",
          "Orthodox Christian",
          "Unaffiliated"
         ],
         "yaxis": "y"
        },
        {
         "alignmentgroup": "True",
         "hovertemplate": "income=100,000 or more<br>proportion=%{x}<br>religion=%{y}<extra></extra>",
         "legendgroup": "100,000 or more",
         "marker": {
          "color": "rgb(153, 201, 69)",
          "pattern": {
           "shape": ""
          }
         },
         "name": "100,000 or more",
         "offsetgroup": "100,000 or more",
         "orientation": "h",
         "showlegend": true,
         "textposition": "auto",
         "type": "bar",
         "x": [
          0.13,
          0.19,
          0.14,
          0.36,
          0.08,
          0.04,
          0.44,
          0.23,
          0.2,
          0.2,
          0.29,
          0.21
         ],
         "xaxis": "x",
         "y": [
          "Buddhist",
          "Catholic",
          "Ev. Protestant",
          "Hindu",
          "Hist. Black Protestant",
          "Jehovah's Witness",
          "Jewish",
          "Mainline Protestant",
          "Mormon",
          "Muslim",
          "Orthodox Christian",
          "Unaffiliated"
         ],
         "yaxis": "y"
        }
       ],
       "layout": {
        "autosize": false,
        "barmode": "relative",
        "font": {
         "color": "Black",
         "family": "Arial, monospace",
         "size": 16
        },
        "height": 800,
        "legend": {
         "orientation": "v",
         "title": {
          "text": "Income"
         },
         "tracegroupgap": 0,
         "x": 1.2,
         "xanchor": "right",
         "y": 1
        },
        "margin": {
         "t": 60
        },
        "template": {
         "data": {
          "bar": [
           {
            "error_x": {
             "color": "rgb(36,36,36)"
            },
            "error_y": {
             "color": "rgb(36,36,36)"
            },
            "marker": {
             "line": {
              "color": "white",
              "width": 0.5
             },
             "pattern": {
              "fillmode": "overlay",
              "size": 10,
              "solidity": 0.2
             }
            },
            "type": "bar"
           }
          ],
          "barpolar": [
           {
            "marker": {
             "line": {
              "color": "white",
              "width": 0.5
             },
             "pattern": {
              "fillmode": "overlay",
              "size": 10,
              "solidity": 0.2
             }
            },
            "type": "barpolar"
           }
          ],
          "carpet": [
           {
            "aaxis": {
             "endlinecolor": "rgb(36,36,36)",
             "gridcolor": "white",
             "linecolor": "white",
             "minorgridcolor": "white",
             "startlinecolor": "rgb(36,36,36)"
            },
            "baxis": {
             "endlinecolor": "rgb(36,36,36)",
             "gridcolor": "white",
             "linecolor": "white",
             "minorgridcolor": "white",
             "startlinecolor": "rgb(36,36,36)"
            },
            "type": "carpet"
           }
          ],
          "choropleth": [
           {
            "colorbar": {
             "outlinewidth": 1,
             "tickcolor": "rgb(36,36,36)",
             "ticks": "outside"
            },
            "type": "choropleth"
           }
          ],
          "contour": [
           {
            "colorbar": {
             "outlinewidth": 1,
             "tickcolor": "rgb(36,36,36)",
             "ticks": "outside"
            },
            "colorscale": [
             [
              0,
              "#440154"
             ],
             [
              0.1111111111111111,
              "#482878"
             ],
             [
              0.2222222222222222,
              "#3e4989"
             ],
             [
              0.3333333333333333,
              "#31688e"
             ],
             [
              0.4444444444444444,
              "#26828e"
             ],
             [
              0.5555555555555556,
              "#1f9e89"
             ],
             [
              0.6666666666666666,
              "#35b779"
             ],
             [
              0.7777777777777778,
              "#6ece58"
             ],
             [
              0.8888888888888888,
              "#b5de2b"
             ],
             [
              1,
              "#fde725"
             ]
            ],
            "type": "contour"
           }
          ],
          "contourcarpet": [
           {
            "colorbar": {
             "outlinewidth": 1,
             "tickcolor": "rgb(36,36,36)",
             "ticks": "outside"
            },
            "type": "contourcarpet"
           }
          ],
          "heatmap": [
           {
            "colorbar": {
             "outlinewidth": 1,
             "tickcolor": "rgb(36,36,36)",
             "ticks": "outside"
            },
            "colorscale": [
             [
              0,
              "#440154"
             ],
             [
              0.1111111111111111,
              "#482878"
             ],
             [
              0.2222222222222222,
              "#3e4989"
             ],
             [
              0.3333333333333333,
              "#31688e"
             ],
             [
              0.4444444444444444,
              "#26828e"
             ],
             [
              0.5555555555555556,
              "#1f9e89"
             ],
             [
              0.6666666666666666,
              "#35b779"
             ],
             [
              0.7777777777777778,
              "#6ece58"
             ],
             [
              0.8888888888888888,
              "#b5de2b"
             ],
             [
              1,
              "#fde725"
             ]
            ],
            "type": "heatmap"
           }
          ],
          "heatmapgl": [
           {
            "colorbar": {
             "outlinewidth": 1,
             "tickcolor": "rgb(36,36,36)",
             "ticks": "outside"
            },
            "colorscale": [
             [
              0,
              "#440154"
             ],
             [
              0.1111111111111111,
              "#482878"
             ],
             [
              0.2222222222222222,
              "#3e4989"
             ],
             [
              0.3333333333333333,
              "#31688e"
             ],
             [
              0.4444444444444444,
              "#26828e"
             ],
             [
              0.5555555555555556,
              "#1f9e89"
             ],
             [
              0.6666666666666666,
              "#35b779"
             ],
             [
              0.7777777777777778,
              "#6ece58"
             ],
             [
              0.8888888888888888,
              "#b5de2b"
             ],
             [
              1,
              "#fde725"
             ]
            ],
            "type": "heatmapgl"
           }
          ],
          "histogram": [
           {
            "marker": {
             "line": {
              "color": "white",
              "width": 0.6
             }
            },
            "type": "histogram"
           }
          ],
          "histogram2d": [
           {
            "colorbar": {
             "outlinewidth": 1,
             "tickcolor": "rgb(36,36,36)",
             "ticks": "outside"
            },
            "colorscale": [
             [
              0,
              "#440154"
             ],
             [
              0.1111111111111111,
              "#482878"
             ],
             [
              0.2222222222222222,
              "#3e4989"
             ],
             [
              0.3333333333333333,
              "#31688e"
             ],
             [
              0.4444444444444444,
              "#26828e"
             ],
             [
              0.5555555555555556,
              "#1f9e89"
             ],
             [
              0.6666666666666666,
              "#35b779"
             ],
             [
              0.7777777777777778,
              "#6ece58"
             ],
             [
              0.8888888888888888,
              "#b5de2b"
             ],
             [
              1,
              "#fde725"
             ]
            ],
            "type": "histogram2d"
           }
          ],
          "histogram2dcontour": [
           {
            "colorbar": {
             "outlinewidth": 1,
             "tickcolor": "rgb(36,36,36)",
             "ticks": "outside"
            },
            "colorscale": [
             [
              0,
              "#440154"
             ],
             [
              0.1111111111111111,
              "#482878"
             ],
             [
              0.2222222222222222,
              "#3e4989"
             ],
             [
              0.3333333333333333,
              "#31688e"
             ],
             [
              0.4444444444444444,
              "#26828e"
             ],
             [
              0.5555555555555556,
              "#1f9e89"
             ],
             [
              0.6666666666666666,
              "#35b779"
             ],
             [
              0.7777777777777778,
              "#6ece58"
             ],
             [
              0.8888888888888888,
              "#b5de2b"
             ],
             [
              1,
              "#fde725"
             ]
            ],
            "type": "histogram2dcontour"
           }
          ],
          "mesh3d": [
           {
            "colorbar": {
             "outlinewidth": 1,
             "tickcolor": "rgb(36,36,36)",
             "ticks": "outside"
            },
            "type": "mesh3d"
           }
          ],
          "parcoords": [
           {
            "line": {
             "colorbar": {
              "outlinewidth": 1,
              "tickcolor": "rgb(36,36,36)",
              "ticks": "outside"
             }
            },
            "type": "parcoords"
           }
          ],
          "pie": [
           {
            "automargin": true,
            "type": "pie"
           }
          ],
          "scatter": [
           {
            "fillpattern": {
             "fillmode": "overlay",
             "size": 10,
             "solidity": 0.2
            },
            "type": "scatter"
           }
          ],
          "scatter3d": [
           {
            "line": {
             "colorbar": {
              "outlinewidth": 1,
              "tickcolor": "rgb(36,36,36)",
              "ticks": "outside"
             }
            },
            "marker": {
             "colorbar": {
              "outlinewidth": 1,
              "tickcolor": "rgb(36,36,36)",
              "ticks": "outside"
             }
            },
            "type": "scatter3d"
           }
          ],
          "scattercarpet": [
           {
            "marker": {
             "colorbar": {
              "outlinewidth": 1,
              "tickcolor": "rgb(36,36,36)",
              "ticks": "outside"
             }
            },
            "type": "scattercarpet"
           }
          ],
          "scattergeo": [
           {
            "marker": {
             "colorbar": {
              "outlinewidth": 1,
              "tickcolor": "rgb(36,36,36)",
              "ticks": "outside"
             }
            },
            "type": "scattergeo"
           }
          ],
          "scattergl": [
           {
            "marker": {
             "colorbar": {
              "outlinewidth": 1,
              "tickcolor": "rgb(36,36,36)",
              "ticks": "outside"
             }
            },
            "type": "scattergl"
           }
          ],
          "scattermapbox": [
           {
            "marker": {
             "colorbar": {
              "outlinewidth": 1,
              "tickcolor": "rgb(36,36,36)",
              "ticks": "outside"
             }
            },
            "type": "scattermapbox"
           }
          ],
          "scatterpolar": [
           {
            "marker": {
             "colorbar": {
              "outlinewidth": 1,
              "tickcolor": "rgb(36,36,36)",
              "ticks": "outside"
             }
            },
            "type": "scatterpolar"
           }
          ],
          "scatterpolargl": [
           {
            "marker": {
             "colorbar": {
              "outlinewidth": 1,
              "tickcolor": "rgb(36,36,36)",
              "ticks": "outside"
             }
            },
            "type": "scatterpolargl"
           }
          ],
          "scatterternary": [
           {
            "marker": {
             "colorbar": {
              "outlinewidth": 1,
              "tickcolor": "rgb(36,36,36)",
              "ticks": "outside"
             }
            },
            "type": "scatterternary"
           }
          ],
          "surface": [
           {
            "colorbar": {
             "outlinewidth": 1,
             "tickcolor": "rgb(36,36,36)",
             "ticks": "outside"
            },
            "colorscale": [
             [
              0,
              "#440154"
             ],
             [
              0.1111111111111111,
              "#482878"
             ],
             [
              0.2222222222222222,
              "#3e4989"
             ],
             [
              0.3333333333333333,
              "#31688e"
             ],
             [
              0.4444444444444444,
              "#26828e"
             ],
             [
              0.5555555555555556,
              "#1f9e89"
             ],
             [
              0.6666666666666666,
              "#35b779"
             ],
             [
              0.7777777777777778,
              "#6ece58"
             ],
             [
              0.8888888888888888,
              "#b5de2b"
             ],
             [
              1,
              "#fde725"
             ]
            ],
            "type": "surface"
           }
          ],
          "table": [
           {
            "cells": {
             "fill": {
              "color": "rgb(237,237,237)"
             },
             "line": {
              "color": "white"
             }
            },
            "header": {
             "fill": {
              "color": "rgb(217,217,217)"
             },
             "line": {
              "color": "white"
             }
            },
            "type": "table"
           }
          ]
         },
         "layout": {
          "annotationdefaults": {
           "arrowhead": 0,
           "arrowwidth": 1
          },
          "autotypenumbers": "strict",
          "coloraxis": {
           "colorbar": {
            "outlinewidth": 1,
            "tickcolor": "rgb(36,36,36)",
            "ticks": "outside"
           }
          },
          "colorscale": {
           "diverging": [
            [
             0,
             "rgb(103,0,31)"
            ],
            [
             0.1,
             "rgb(178,24,43)"
            ],
            [
             0.2,
             "rgb(214,96,77)"
            ],
            [
             0.3,
             "rgb(244,165,130)"
            ],
            [
             0.4,
             "rgb(253,219,199)"
            ],
            [
             0.5,
             "rgb(247,247,247)"
            ],
            [
             0.6,
             "rgb(209,229,240)"
            ],
            [
             0.7,
             "rgb(146,197,222)"
            ],
            [
             0.8,
             "rgb(67,147,195)"
            ],
            [
             0.9,
             "rgb(33,102,172)"
            ],
            [
             1,
             "rgb(5,48,97)"
            ]
           ],
           "sequential": [
            [
             0,
             "#440154"
            ],
            [
             0.1111111111111111,
             "#482878"
            ],
            [
             0.2222222222222222,
             "#3e4989"
            ],
            [
             0.3333333333333333,
             "#31688e"
            ],
            [
             0.4444444444444444,
             "#26828e"
            ],
            [
             0.5555555555555556,
             "#1f9e89"
            ],
            [
             0.6666666666666666,
             "#35b779"
            ],
            [
             0.7777777777777778,
             "#6ece58"
            ],
            [
             0.8888888888888888,
             "#b5de2b"
            ],
            [
             1,
             "#fde725"
            ]
           ],
           "sequentialminus": [
            [
             0,
             "#440154"
            ],
            [
             0.1111111111111111,
             "#482878"
            ],
            [
             0.2222222222222222,
             "#3e4989"
            ],
            [
             0.3333333333333333,
             "#31688e"
            ],
            [
             0.4444444444444444,
             "#26828e"
            ],
            [
             0.5555555555555556,
             "#1f9e89"
            ],
            [
             0.6666666666666666,
             "#35b779"
            ],
            [
             0.7777777777777778,
             "#6ece58"
            ],
            [
             0.8888888888888888,
             "#b5de2b"
            ],
            [
             1,
             "#fde725"
            ]
           ]
          },
          "colorway": [
           "#1F77B4",
           "#FF7F0E",
           "#2CA02C",
           "#D62728",
           "#9467BD",
           "#8C564B",
           "#E377C2",
           "#7F7F7F",
           "#BCBD22",
           "#17BECF"
          ],
          "font": {
           "color": "rgb(36,36,36)"
          },
          "geo": {
           "bgcolor": "white",
           "lakecolor": "white",
           "landcolor": "white",
           "showlakes": true,
           "showland": true,
           "subunitcolor": "white"
          },
          "hoverlabel": {
           "align": "left"
          },
          "hovermode": "closest",
          "mapbox": {
           "style": "light"
          },
          "paper_bgcolor": "white",
          "plot_bgcolor": "white",
          "polar": {
           "angularaxis": {
            "gridcolor": "rgb(232,232,232)",
            "linecolor": "rgb(36,36,36)",
            "showgrid": false,
            "showline": true,
            "ticks": "outside"
           },
           "bgcolor": "white",
           "radialaxis": {
            "gridcolor": "rgb(232,232,232)",
            "linecolor": "rgb(36,36,36)",
            "showgrid": false,
            "showline": true,
            "ticks": "outside"
           }
          },
          "scene": {
           "xaxis": {
            "backgroundcolor": "white",
            "gridcolor": "rgb(232,232,232)",
            "gridwidth": 2,
            "linecolor": "rgb(36,36,36)",
            "showbackground": true,
            "showgrid": false,
            "showline": true,
            "ticks": "outside",
            "zeroline": false,
            "zerolinecolor": "rgb(36,36,36)"
           },
           "yaxis": {
            "backgroundcolor": "white",
            "gridcolor": "rgb(232,232,232)",
            "gridwidth": 2,
            "linecolor": "rgb(36,36,36)",
            "showbackground": true,
            "showgrid": false,
            "showline": true,
            "ticks": "outside",
            "zeroline": false,
            "zerolinecolor": "rgb(36,36,36)"
           },
           "zaxis": {
            "backgroundcolor": "white",
            "gridcolor": "rgb(232,232,232)",
            "gridwidth": 2,
            "linecolor": "rgb(36,36,36)",
            "showbackground": true,
            "showgrid": false,
            "showline": true,
            "ticks": "outside",
            "zeroline": false,
            "zerolinecolor": "rgb(36,36,36)"
           }
          },
          "shapedefaults": {
           "fillcolor": "black",
           "line": {
            "width": 0
           },
           "opacity": 0.3
          },
          "ternary": {
           "aaxis": {
            "gridcolor": "rgb(232,232,232)",
            "linecolor": "rgb(36,36,36)",
            "showgrid": false,
            "showline": true,
            "ticks": "outside"
           },
           "baxis": {
            "gridcolor": "rgb(232,232,232)",
            "linecolor": "rgb(36,36,36)",
            "showgrid": false,
            "showline": true,
            "ticks": "outside"
           },
           "bgcolor": "white",
           "caxis": {
            "gridcolor": "rgb(232,232,232)",
            "linecolor": "rgb(36,36,36)",
            "showgrid": false,
            "showline": true,
            "ticks": "outside"
           }
          },
          "title": {
           "x": 0.05
          },
          "xaxis": {
           "automargin": true,
           "gridcolor": "rgb(232,232,232)",
           "linecolor": "rgb(36,36,36)",
           "showgrid": false,
           "showline": true,
           "ticks": "outside",
           "title": {
            "standoff": 15
           },
           "zeroline": false,
           "zerolinecolor": "rgb(36,36,36)"
          },
          "yaxis": {
           "automargin": true,
           "gridcolor": "rgb(232,232,232)",
           "linecolor": "rgb(36,36,36)",
           "showgrid": false,
           "showline": true,
           "ticks": "outside",
           "title": {
            "standoff": 15
           },
           "zeroline": false,
           "zerolinecolor": "rgb(36,36,36)"
          }
         }
        },
        "title": {
         "text": "Income Distribution by religious group <br><sup>Data Source: Pew Research Center, Religious Lansdcape Study</sup>",
         "x": 0.5
        },
        "width": 1000,
        "xaxis": {
         "anchor": "y",
         "autorange": true,
         "domain": [
          0,
          1
         ],
         "range": [
          0,
          1.0526315789473684
         ],
         "title": {
          "text": "Proportion"
         },
         "type": "linear"
        },
        "yaxis": {
         "anchor": "x",
         "autorange": true,
         "categoryorder": "category descending",
         "domain": [
          0,
          1
         ],
         "range": [
          -0.5,
          11.5
         ],
         "title": {
          "text": ""
         },
         "type": "category"
        }
       }
      },
      "image/png": "[encoded data removed]",
      "text/html": [
       "<div>                            <div id=\"ab10edcc-75e1-4823-b6f3-dc81b8b5ffe6\" class=\"plotly-graph-div\" style=\"height:800px; width:1000px;\"></div>            <script type=\"text/javascript\">                require([\"plotly\"], function(Plotly) {                    window.PLOTLYENV=window.PLOTLYENV || {};                                    if (document.getElementById(\"ab10edcc-75e1-4823-b6f3-dc81b8b5ffe6\")) {                    Plotly.newPlot(                        \"ab10edcc-75e1-4823-b6f3-dc81b8b5ffe6\",                        [{\"alignmentgroup\":\"True\",\"hovertemplate\":\"income=Less than 30,000\\u003cbr\\u003eproportion=%{x}\\u003cbr\\u003ereligion=%{y}\\u003cextra\\u003e\\u003c\\u002fextra\\u003e\",\"legendgroup\":\"Less than 30,000\",\"marker\":{\"color\":\"rgb(229, 134, 6)\",\"pattern\":{\"shape\":\"\"}},\"name\":\"Less than 30,000\",\"offsetgroup\":\"Less than 30,000\",\"orientation\":\"h\",\"showlegend\":true,\"textposition\":\"auto\",\"x\":[0.36,0.36,0.35,0.17,0.53,0.48,0.16,0.29,0.27,0.34,0.18,0.33],\"xaxis\":\"x\",\"y\":[\"Buddhist\",\"Catholic\",\"Ev. Protestant\",\"Hindu\",\"Hist. Black Protestant\",\"Jehovah's Witness\",\"Jewish\",\"Mainline Protestant\",\"Mormon\",\"Muslim\",\"Orthodox Christian\",\"Unaffiliated\"],\"yaxis\":\"y\",\"type\":\"bar\"},{\"alignmentgroup\":\"True\",\"hovertemplate\":\"income=30,000-49,999\\u003cbr\\u003eproportion=%{x}\\u003cbr\\u003ereligion=%{y}\\u003cextra\\u003e\\u003c\\u002fextra\\u003e\",\"legendgroup\":\"30,000-49,999\",\"marker\":{\"color\":\"rgb(93, 105, 177)\",\"pattern\":{\"shape\":\"\"}},\"name\":\"30,000-49,999\",\"offsetgroup\":\"30,000-49,999\",\"orientation\":\"h\",\"showlegend\":true,\"textposition\":\"auto\",\"x\":[0.18,0.19,0.22,0.13,0.22,0.25,0.15,0.2,0.2,0.17,0.17,0.2],\"xaxis\":\"x\",\"y\":[\"Buddhist\",\"Catholic\",\"Ev. Protestant\",\"Hindu\",\"Hist. Black Protestant\",\"Jehovah's Witness\",\"Jewish\",\"Mainline Protestant\",\"Mormon\",\"Muslim\",\"Orthodox Christian\",\"Unaffiliated\"],\"yaxis\":\"y\",\"type\":\"bar\"},{\"alignmentgroup\":\"True\",\"hovertemplate\":\"income=50,000-99,999\\u003cbr\\u003eproportion=%{x}\\u003cbr\\u003ereligion=%{y}\\u003cextra\\u003e\\u003c\\u002fextra\\u003e\",\"legendgroup\":\"50,000-99,999\",\"marker\":{\"color\":\"rgb(82, 188, 163)\",\"pattern\":{\"shape\":\"\"}},\"name\":\"50,000-99,999\",\"offsetgroup\":\"50,000-99,999\",\"orientation\":\"h\",\"showlegend\":true,\"textposition\":\"auto\",\"x\":[0.32,0.26,0.28,0.34,0.17,0.22,0.24,0.28,0.33,0.29,0.36,0.26],\"xaxis\":\"x\",\"y\":[\"Buddhist\",\"Catholic\",\"Ev. Protestant\",\"Hindu\",\"Hist. Black Protestant\",\"Jehovah's Witness\",\"Jewish\",\"Mainline Protestant\",\"Mormon\",\"Muslim\",\"Orthodox Christian\",\"Unaffiliated\"],\"yaxis\":\"y\",\"type\":\"bar\"},{\"alignmentgroup\":\"True\",\"hovertemplate\":\"income=100,000 or more\\u003cbr\\u003eproportion=%{x}\\u003cbr\\u003ereligion=%{y}\\u003cextra\\u003e\\u003c\\u002fextra\\u003e\",\"legendgroup\":\"100,000 or more\",\"marker\":{\"color\":\"rgb(153, 201, 69)\",\"pattern\":{\"shape\":\"\"}},\"name\":\"100,000 or more\",\"offsetgroup\":\"100,000 or more\",\"orientation\":\"h\",\"showlegend\":true,\"textposition\":\"auto\",\"x\":[0.13,0.19,0.14,0.36,0.08,0.04,0.44,0.23,0.2,0.2,0.29,0.21],\"xaxis\":\"x\",\"y\":[\"Buddhist\",\"Catholic\",\"Ev. Protestant\",\"Hindu\",\"Hist. Black Protestant\",\"Jehovah's Witness\",\"Jewish\",\"Mainline Protestant\",\"Mormon\",\"Muslim\",\"Orthodox Christian\",\"Unaffiliated\"],\"yaxis\":\"y\",\"type\":\"bar\"}],                        {\"template\":{\"data\":{\"barpolar\":[{\"marker\":{\"line\":{\"color\":\"white\",\"width\":0.5},\"pattern\":{\"fillmode\":\"overlay\",\"size\":10,\"solidity\":0.2}},\"type\":\"barpolar\"}],\"bar\":[{\"error_x\":{\"color\":\"rgb(36,36,36)\"},\"error_y\":{\"color\":\"rgb(36,36,36)\"},\"marker\":{\"line\":{\"color\":\"white\",\"width\":0.5},\"pattern\":{\"fillmode\":\"overlay\",\"size\":10,\"solidity\":0.2}},\"type\":\"bar\"}],\"carpet\":[{\"aaxis\":{\"endlinecolor\":\"rgb(36,36,36)\",\"gridcolor\":\"white\",\"linecolor\":\"white\",\"minorgridcolor\":\"white\",\"startlinecolor\":\"rgb(36,36,36)\"},\"baxis\":{\"endlinecolor\":\"rgb(36,36,36)\",\"gridcolor\":\"white\",\"linecolor\":\"white\",\"minorgridcolor\":\"white\",\"startlinecolor\":\"rgb(36,36,36)\"},\"type\":\"carpet\"}],\"choropleth\":[{\"colorbar\":{\"outlinewidth\":1,\"tickcolor\":\"rgb(36,36,36)\",\"ticks\":\"outside\"},\"type\":\"choropleth\"}],\"contourcarpet\":[{\"colorbar\":{\"outlinewidth\":1,\"tickcolor\":\"rgb(36,36,36)\",\"ticks\":\"outside\"},\"type\":\"contourcarpet\"}],\"contour\":[{\"colorbar\":{\"outlinewidth\":1,\"tickcolor\":\"rgb(36,36,36)\",\"ticks\":\"outside\"},\"colorscale\":[[0.0,\"#440154\"],[0.1111111111111111,\"#482878\"],[0.2222222222222222,\"#3e4989\"],[0.3333333333333333,\"#31688e\"],[0.4444444444444444,\"#26828e\"],[0.5555555555555556,\"#1f9e89\"],[0.6666666666666666,\"#35b779\"],[0.7777777777777778,\"#6ece58\"],[0.8888888888888888,\"#b5de2b\"],[1.0,\"#fde725\"]],\"type\":\"contour\"}],\"heatmapgl\":[{\"colorbar\":{\"outlinewidth\":1,\"tickcolor\":\"rgb(36,36,36)\",\"ticks\":\"outside\"},\"colorscale\":[[0.0,\"#440154\"],[0.1111111111111111,\"#482878\"],[0.2222222222222222,\"#3e4989\"],[0.3333333333333333,\"#31688e\"],[0.4444444444444444,\"#26828e\"],[0.5555555555555556,\"#1f9e89\"],[0.6666666666666666,\"#35b779\"],[0.7777777777777778,\"#6ece58\"],[0.8888888888888888,\"#b5de2b\"],[1.0,\"#fde725\"]],\"type\":\"heatmapgl\"}],\"heatmap\":[{\"colorbar\":{\"outlinewidth\":1,\"tickcolor\":\"rgb(36,36,36)\",\"ticks\":\"outside\"},\"colorscale\":[[0.0,\"#440154\"],[0.1111111111111111,\"#482878\"],[0.2222222222222222,\"#3e4989\"],[0.3333333333333333,\"#31688e\"],[0.4444444444444444,\"#26828e\"],[0.5555555555555556,\"#1f9e89\"],[0.6666666666666666,\"#35b779\"],[0.7777777777777778,\"#6ece58\"],[0.8888888888888888,\"#b5de2b\"],[1.0,\"#fde725\"]],\"type\":\"heatmap\"}],\"histogram2dcontour\":[{\"colorbar\":{\"outlinewidth\":1,\"tickcolor\":\"rgb(36,36,36)\",\"ticks\":\"outside\"},\"colorscale\":[[0.0,\"#440154\"],[0.1111111111111111,\"#482878\"],[0.2222222222222222,\"#3e4989\"],[0.3333333333333333,\"#31688e\"],[0.4444444444444444,\"#26828e\"],[0.5555555555555556,\"#1f9e89\"],[0.6666666666666666,\"#35b779\"],[0.7777777777777778,\"#6ece58\"],[0.8888888888888888,\"#b5de2b\"],[1.0,\"#fde725\"]],\"type\":\"histogram2dcontour\"}],\"histogram2d\":[{\"colorbar\":{\"outlinewidth\":1,\"tickcolor\":\"rgb(36,36,36)\",\"ticks\":\"outside\"},\"colorscale\":[[0.0,\"#440154\"],[0.1111111111111111,\"#482878\"],[0.2222222222222222,\"#3e4989\"],[0.3333333333333333,\"#31688e\"],[0.4444444444444444,\"#26828e\"],[0.5555555555555556,\"#1f9e89\"],[0.6666666666666666,\"#35b779\"],[0.7777777777777778,\"#6ece58\"],[0.8888888888888888,\"#b5de2b\"],[1.0,\"#fde725\"]],\"type\":\"histogram2d\"}],\"histogram\":[{\"marker\":{\"line\":{\"color\":\"white\",\"width\":0.6}},\"type\":\"histogram\"}],\"mesh3d\":[{\"colorbar\":{\"outlinewidth\":1,\"tickcolor\":\"rgb(36,36,36)\",\"ticks\":\"outside\"},\"type\":\"mesh3d\"}],\"parcoords\":[{\"line\":{\"colorbar\":{\"outlinewidth\":1,\"tickcolor\":\"rgb(36,36,36)\",\"ticks\":\"outside\"}},\"type\":\"parcoords\"}],\"pie\":[{\"automargin\":true,\"type\":\"pie\"}],\"scatter3d\":[{\"line\":{\"colorbar\":{\"outlinewidth\":1,\"tickcolor\":\"rgb(36,36,36)\",\"ticks\":\"outside\"}},\"marker\":{\"colorbar\":{\"outlinewidth\":1,\"tickcolor\":\"rgb(36,36,36)\",\"ticks\":\"outside\"}},\"type\":\"scatter3d\"}],\"scattercarpet\":[{\"marker\":{\"colorbar\":{\"outlinewidth\":1,\"tickcolor\":\"rgb(36,36,36)\",\"ticks\":\"outside\"}},\"type\":\"scattercarpet\"}],\"scattergeo\":[{\"marker\":{\"colorbar\":{\"outlinewidth\":1,\"tickcolor\":\"rgb(36,36,36)\",\"ticks\":\"outside\"}},\"type\":\"scattergeo\"}],\"scattergl\":[{\"marker\":{\"colorbar\":{\"outlinewidth\":1,\"tickcolor\":\"rgb(36,36,36)\",\"ticks\":\"outside\"}},\"type\":\"scattergl\"}],\"scattermapbox\":[{\"marker\":{\"colorbar\":{\"outlinewidth\":1,\"tickcolor\":\"rgb(36,36,36)\",\"ticks\":\"outside\"}},\"type\":\"scattermapbox\"}],\"scatterpolargl\":[{\"marker\":{\"colorbar\":{\"outlinewidth\":1,\"tickcolor\":\"rgb(36,36,36)\",\"ticks\":\"outside\"}},\"type\":\"scatterpolargl\"}],\"scatterpolar\":[{\"marker\":{\"colorbar\":{\"outlinewidth\":1,\"tickcolor\":\"rgb(36,36,36)\",\"ticks\":\"outside\"}},\"type\":\"scatterpolar\"}],\"scatter\":[{\"fillpattern\":{\"fillmode\":\"overlay\",\"size\":10,\"solidity\":0.2},\"type\":\"scatter\"}],\"scatterternary\":[{\"marker\":{\"colorbar\":{\"outlinewidth\":1,\"tickcolor\":\"rgb(36,36,36)\",\"ticks\":\"outside\"}},\"type\":\"scatterternary\"}],\"surface\":[{\"colorbar\":{\"outlinewidth\":1,\"tickcolor\":\"rgb(36,36,36)\",\"ticks\":\"outside\"},\"colorscale\":[[0.0,\"#440154\"],[0.1111111111111111,\"#482878\"],[0.2222222222222222,\"#3e4989\"],[0.3333333333333333,\"#31688e\"],[0.4444444444444444,\"#26828e\"],[0.5555555555555556,\"#1f9e89\"],[0.6666666666666666,\"#35b779\"],[0.7777777777777778,\"#6ece58\"],[0.8888888888888888,\"#b5de2b\"],[1.0,\"#fde725\"]],\"type\":\"surface\"}],\"table\":[{\"cells\":{\"fill\":{\"color\":\"rgb(237,237,237)\"},\"line\":{\"color\":\"white\"}},\"header\":{\"fill\":{\"color\":\"rgb(217,217,217)\"},\"line\":{\"color\":\"white\"}},\"type\":\"table\"}]},\"layout\":{\"annotationdefaults\":{\"arrowhead\":0,\"arrowwidth\":1},\"autotypenumbers\":\"strict\",\"coloraxis\":{\"colorbar\":{\"outlinewidth\":1,\"tickcolor\":\"rgb(36,36,36)\",\"ticks\":\"outside\"}},\"colorscale\":{\"diverging\":[[0.0,\"rgb(103,0,31)\"],[0.1,\"rgb(178,24,43)\"],[0.2,\"rgb(214,96,77)\"],[0.3,\"rgb(244,165,130)\"],[0.4,\"rgb(253,219,199)\"],[0.5,\"rgb(247,247,247)\"],[0.6,\"rgb(209,229,240)\"],[0.7,\"rgb(146,197,222)\"],[0.8,\"rgb(67,147,195)\"],[0.9,\"rgb(33,102,172)\"],[1.0,\"rgb(5,48,97)\"]],\"sequential\":[[0.0,\"#440154\"],[0.1111111111111111,\"#482878\"],[0.2222222222222222,\"#3e4989\"],[0.3333333333333333,\"#31688e\"],[0.4444444444444444,\"#26828e\"],[0.5555555555555556,\"#1f9e89\"],[0.6666666666666666,\"#35b779\"],[0.7777777777777778,\"#6ece58\"],[0.8888888888888888,\"#b5de2b\"],[1.0,\"#fde725\"]],\"sequentialminus\":[[0.0,\"#440154\"],[0.1111111111111111,\"#482878\"],[0.2222222222222222,\"#3e4989\"],[0.3333333333333333,\"#31688e\"],[0.4444444444444444,\"#26828e\"],[0.5555555555555556,\"#1f9e89\"],[0.6666666666666666,\"#35b779\"],[0.7777777777777778,\"#6ece58\"],[0.8888888888888888,\"#b5de2b\"],[1.0,\"#fde725\"]]},\"colorway\":[\"#1F77B4\",\"#FF7F0E\",\"#2CA02C\",\"#D62728\",\"#9467BD\",\"#8C564B\",\"#E377C2\",\"#7F7F7F\",\"#BCBD22\",\"#17BECF\"],\"font\":{\"color\":\"rgb(36,36,36)\"},\"geo\":{\"bgcolor\":\"white\",\"lakecolor\":\"white\",\"landcolor\":\"white\",\"showlakes\":true,\"showland\":true,\"subunitcolor\":\"white\"},\"hoverlabel\":{\"align\":\"left\"},\"hovermode\":\"closest\",\"mapbox\":{\"style\":\"light\"},\"paper_bgcolor\":\"white\",\"plot_bgcolor\":\"white\",\"polar\":{\"angularaxis\":{\"gridcolor\":\"rgb(232,232,232)\",\"linecolor\":\"rgb(36,36,36)\",\"showgrid\":false,\"showline\":true,\"ticks\":\"outside\"},\"bgcolor\":\"white\",\"radialaxis\":{\"gridcolor\":\"rgb(232,232,232)\",\"linecolor\":\"rgb(36,36,36)\",\"showgrid\":false,\"showline\":true,\"ticks\":\"outside\"}},\"scene\":{\"xaxis\":{\"backgroundcolor\":\"white\",\"gridcolor\":\"rgb(232,232,232)\",\"gridwidth\":2,\"linecolor\":\"rgb(36,36,36)\",\"showbackground\":true,\"showgrid\":false,\"showline\":true,\"ticks\":\"outside\",\"zeroline\":false,\"zerolinecolor\":\"rgb(36,36,36)\"},\"yaxis\":{\"backgroundcolor\":\"white\",\"gridcolor\":\"rgb(232,232,232)\",\"gridwidth\":2,\"linecolor\":\"rgb(36,36,36)\",\"showbackground\":true,\"showgrid\":false,\"showline\":true,\"ticks\":\"outside\",\"zeroline\":false,\"zerolinecolor\":\"rgb(36,36,36)\"},\"zaxis\":{\"backgroundcolor\":\"white\",\"gridcolor\":\"rgb(232,232,232)\",\"gridwidth\":2,\"linecolor\":\"rgb(36,36,36)\",\"showbackground\":true,\"showgrid\":false,\"showline\":true,\"ticks\":\"outside\",\"zeroline\":false,\"zerolinecolor\":\"rgb(36,36,36)\"}},\"shapedefaults\":{\"fillcolor\":\"black\",\"line\":{\"width\":0},\"opacity\":0.3},\"ternary\":{\"aaxis\":{\"gridcolor\":\"rgb(232,232,232)\",\"linecolor\":\"rgb(36,36,36)\",\"showgrid\":false,\"showline\":true,\"ticks\":\"outside\"},\"baxis\":{\"gridcolor\":\"rgb(232,232,232)\",\"linecolor\":\"rgb(36,36,36)\",\"showgrid\":false,\"showline\":true,\"ticks\":\"outside\"},\"bgcolor\":\"white\",\"caxis\":{\"gridcolor\":\"rgb(232,232,232)\",\"linecolor\":\"rgb(36,36,36)\",\"showgrid\":false,\"showline\":true,\"ticks\":\"outside\"}},\"title\":{\"x\":0.05},\"xaxis\":{\"automargin\":true,\"gridcolor\":\"rgb(232,232,232)\",\"linecolor\":\"rgb(36,36,36)\",\"showgrid\":false,\"showline\":true,\"ticks\":\"outside\",\"title\":{\"standoff\":15},\"zeroline\":false,\"zerolinecolor\":\"rgb(36,36,36)\"},\"yaxis\":{\"automargin\":true,\"gridcolor\":\"rgb(232,232,232)\",\"linecolor\":\"rgb(36,36,36)\",\"showgrid\":false,\"showline\":true,\"ticks\":\"outside\",\"title\":{\"standoff\":15},\"zeroline\":false,\"zerolinecolor\":\"rgb(36,36,36)\"}}},\"xaxis\":{\"anchor\":\"y\",\"domain\":[0.0,1.0],\"title\":{\"text\":\"Proportion\"}},\"yaxis\":{\"anchor\":\"x\",\"domain\":[0.0,1.0],\"title\":{\"text\":\"\"},\"categoryorder\":\"category descending\"},\"legend\":{\"title\":{\"text\":\"Income\"},\"tracegroupgap\":0,\"orientation\":\"v\",\"xanchor\":\"right\",\"x\":1.2},\"margin\":{\"t\":60},\"barmode\":\"relative\",\"title\":{\"text\":\"Income Distribution by religious group \\u003cbr\\u003e\\u003csup\\u003eData Source: Pew Research Center, Religious Lansdcape Study\\u003c\\u002fsup\\u003e\",\"x\":0.5},\"font\":{\"family\":\"Arial, monospace\",\"size\":16,\"color\":\"Black\"},\"autosize\":false,\"width\":1000,\"height\":800},                        {\"responsive\": true}                    ).then(function(){\n",
       "                            \n",
       "var gd = document.getElementById('ab10edcc-75e1-4823-b6f3-dc81b8b5ffe6');\n",
       "var x = new MutationObserver(function (mutations, observer) {{\n",
       "        var display = window.getComputedStyle(gd).display;\n",
       "        if (!display || display === 'none') {{\n",
       "            console.log([gd, 'removed!']);\n",
       "            Plotly.purge(gd);\n",
       "            observer.disconnect();\n",
       "        }}\n",
       "}});\n",
       "\n",
       "// Listen for the removal of the full notebook cells\n",
       "var notebookContainer = gd.closest('#notebook-container');\n",
       "if (notebookContainer) {{\n",
       "    x.observe(notebookContainer, {childList: true});\n",
       "}}\n",
       "\n",
       "// Listen for the clearing of the current output cell\n",
       "var outputEl = gd.closest('.output');\n",
       "if (outputEl) {{\n",
       "    x.observe(outputEl, {childList: true});\n",
       "}}\n",
       "\n",
       "                        })                };                });            </script>        </div>"
      ]
     },
     "metadata": {},
     "output_type": "display_data"
    }
   ],
   "source": [
    "\n",
    "fig = px.bar(DF_new,\n",
    "             y='religion',\n",
    "             x='proportion',\n",
    "             color='income',\n",
    "             color_discrete_sequence=px.colors.qualitative.Vivid,\n",
    "             category_orders={'income' : ['Less than 30,000', '30,000-49,999', '50,000-99,999', '100,000 or more']})\n",
    "\n",
    "fig.update_layout(template=\"simple_white\",\n",
    "                  title='Income Distribution by religious group <br><sup>Data Source: Pew Research Center, Religious Lansdcape Study</sup>',\n",
    "                  title_x=0.5,\n",
    "                  yaxis={'categoryorder': 'category descending'},\n",
    "                  xaxis_title=\"Proportion\",\n",
    "                  yaxis_title=\"\",\n",
    "                  legend_title='Income',\n",
    "                  legend={'orientation':\"v\",'xanchor':\"top\",'x':1, 'xanchor':\"right\",'x':1.2},\n",
    "                  font={'family':\"Arial, monospace\",'size':16,'color':\"Black\"},\n",
    "                  autosize=False,\n",
    "                  width=1000,\n",
    "                  height=800)\n",
    "\n",
    "fig.show()\n",
    "\n"
   ]
  },
  {
   "cell_type": "markdown",
   "id": "59ea143e-4cb3-45c6-a7d7-db7623af1c0e",
   "metadata": {},
   "source": [
    "## Exercise 1\n",
    "\n",
    "Make your own version of the plot above. Here are some changes you should try:\n",
    "\n",
    "* Change the font family - some common fonts to try:\n",
    "  \n",
    "        [\"Arial\",\n",
    "        \"Balto\",\n",
    "        \"Courier New\",\n",
    "        \"Droid Sans\",\n",
    "        \"Droid Serif\",\n",
    "        \"Droid Sans Mono\",\n",
    "        \"Gravitas One\",\n",
    "        \"Old Standard TT\",\n",
    "        \"Open Sans\",\n",
    "        \"Overpass\",\n",
    "        \"PT Sans Narrow\",\n",
    "        \"Raleway\",\n",
    "        \"Times New Roman\"]\n",
    "\n",
    "* Move the legend to somewhere else.\n",
    "\n",
    "* Change the template and the color.\n",
    "\n",
    "* Advanced - look up how you can change the pattern_shape or pattern_shape_sequence. "
   ]
  },
  {
   "cell_type": "markdown",
   "id": "9a340259-ea38-4364-ac54-7a55bbaf512f",
   "metadata": {},
   "source": [
    "## Exercise 2\n",
    "\n",
    "In this exercise we are going to import some very messy data and see how we can Recode, Tidy, and Pivot the data!\n",
    "\n",
    "### 1. Import the data from the file: file_name = 'data/sales.xlsx'\n",
    "\n",
    "Look at the DataFrame, the data is not in a great format. Why is this data not tidy? List a few reasons that this data has problems.\n"
   ]
  },
  {
   "cell_type": "code",
   "execution_count": 57,
   "id": "4ac5da4e-a24d-4676-ae31-5343a0c886a7",
   "metadata": {},
   "outputs": [
    {
     "data": {
      "text/html": [
       "<div>\n",
       "<style scoped>\n",
       "    .dataframe tbody tr th:only-of-type {\n",
       "        vertical-align: middle;\n",
       "    }\n",
       "\n",
       "    .dataframe tbody tr th {\n",
       "        vertical-align: top;\n",
       "    }\n",
       "\n",
       "    .dataframe thead th {\n",
       "        text-align: right;\n",
       "    }\n",
       "</style>\n",
       "<table border=\"1\" class=\"dataframe\">\n",
       "  <thead>\n",
       "    <tr style=\"text-align: right;\">\n",
       "      <th></th>\n",
       "      <th>Unnamed: 0</th>\n",
       "      <th>Unnamed: 1</th>\n",
       "    </tr>\n",
       "  </thead>\n",
       "  <tbody>\n",
       "    <tr>\n",
       "      <th>0</th>\n",
       "      <td>Brand 1</td>\n",
       "      <td>n</td>\n",
       "    </tr>\n",
       "    <tr>\n",
       "      <th>1</th>\n",
       "      <td>1234</td>\n",
       "      <td>8</td>\n",
       "    </tr>\n",
       "    <tr>\n",
       "      <th>2</th>\n",
       "      <td>8721</td>\n",
       "      <td>2</td>\n",
       "    </tr>\n",
       "    <tr>\n",
       "      <th>3</th>\n",
       "      <td>1822</td>\n",
       "      <td>3</td>\n",
       "    </tr>\n",
       "    <tr>\n",
       "      <th>4</th>\n",
       "      <td>Brand 2</td>\n",
       "      <td>n</td>\n",
       "    </tr>\n",
       "    <tr>\n",
       "      <th>5</th>\n",
       "      <td>3333</td>\n",
       "      <td>1</td>\n",
       "    </tr>\n",
       "    <tr>\n",
       "      <th>6</th>\n",
       "      <td>2156</td>\n",
       "      <td>3</td>\n",
       "    </tr>\n",
       "    <tr>\n",
       "      <th>7</th>\n",
       "      <td>3987</td>\n",
       "      <td>6</td>\n",
       "    </tr>\n",
       "    <tr>\n",
       "      <th>8</th>\n",
       "      <td>3216</td>\n",
       "      <td>5</td>\n",
       "    </tr>\n",
       "  </tbody>\n",
       "</table>\n",
       "</div>"
      ],
      "text/plain": [
       "  Unnamed: 0 Unnamed: 1\n",
       "0    Brand 1          n\n",
       "1       1234          8\n",
       "2       8721          2\n",
       "3       1822          3\n",
       "4    Brand 2          n\n",
       "5       3333          1\n",
       "6       2156          3\n",
       "7       3987          6\n",
       "8       3216          5"
      ]
     },
     "execution_count": 57,
     "metadata": {},
     "output_type": "execute_result"
    }
   ],
   "source": [
    "file_name1 = 'data/sales.xlsx'\n",
    "DFsale = pd.read_excel(file_name1, skiprows = 3)\n",
    "DFsale"
   ]
  },
  {
   "cell_type": "markdown",
   "id": "5c439b62-1852-42b5-8d99-d3469aad5303",
   "metadata": {},
   "source": [
    "Different types of data in a single column, no column names, unclear. "
   ]
  },
  {
   "cell_type": "markdown",
   "id": "6ee7c7dc-66a2-4cd0-b1f3-de813daeee22",
   "metadata": {},
   "source": [
    "This is what you should see:\n",
    "\n",
    "![DataFrame1](images/DF1.png)\n",
    "\n",
    "\n",
    "### 2. Now we need to fix this data - when we read this in there are some weird things happening.\n",
    "\n",
    "Open the .sales.xlsx file and look in there. Notice that there are two weird rows at the top. \n",
    "\n",
    "How can we read the data in and skip some rows? Try running the command below to read the documentation. Are there any commands that might help us skip the first three rows when reading in the data?\n"
   ]
  },
  {
   "cell_type": "code",
   "execution_count": 8,
   "id": "0b2da725-4823-4e2e-8636-ab7427ca38c6",
   "metadata": {
    "scrolled": true
   },
   "outputs": [
    {
     "data": {
      "text/plain": [
       "\u001b[0;31mSignature:\u001b[0m\n",
       "\u001b[0mpd\u001b[0m\u001b[0;34m.\u001b[0m\u001b[0mread_excel\u001b[0m\u001b[0;34m(\u001b[0m\u001b[0;34m\u001b[0m\n",
       "\u001b[0;34m\u001b[0m    \u001b[0mio\u001b[0m\u001b[0;34m,\u001b[0m\u001b[0;34m\u001b[0m\n",
       "\u001b[0;34m\u001b[0m    \u001b[0msheet_name\u001b[0m\u001b[0;34m:\u001b[0m \u001b[0;34m'str | int | list[IntStrT] | None'\u001b[0m \u001b[0;34m=\u001b[0m \u001b[0;36m0\u001b[0m\u001b[0;34m,\u001b[0m\u001b[0;34m\u001b[0m\n",
       "\u001b[0;34m\u001b[0m    \u001b[0;34m*\u001b[0m\u001b[0;34m,\u001b[0m\u001b[0;34m\u001b[0m\n",
       "\u001b[0;34m\u001b[0m    \u001b[0mheader\u001b[0m\u001b[0;34m:\u001b[0m \u001b[0;34m'int | Sequence[int] | None'\u001b[0m \u001b[0;34m=\u001b[0m \u001b[0;36m0\u001b[0m\u001b[0;34m,\u001b[0m\u001b[0;34m\u001b[0m\n",
       "\u001b[0;34m\u001b[0m    \u001b[0mnames\u001b[0m\u001b[0;34m:\u001b[0m \u001b[0;34m'SequenceNotStr[Hashable] | range | None'\u001b[0m \u001b[0;34m=\u001b[0m \u001b[0;32mNone\u001b[0m\u001b[0;34m,\u001b[0m\u001b[0;34m\u001b[0m\n",
       "\u001b[0;34m\u001b[0m    \u001b[0mindex_col\u001b[0m\u001b[0;34m:\u001b[0m \u001b[0;34m'int | str | Sequence[int] | None'\u001b[0m \u001b[0;34m=\u001b[0m \u001b[0;32mNone\u001b[0m\u001b[0;34m,\u001b[0m\u001b[0;34m\u001b[0m\n",
       "\u001b[0;34m\u001b[0m    \u001b[0musecols\u001b[0m\u001b[0;34m:\u001b[0m \u001b[0;34m'int | str | Sequence[int] | Sequence[str] | Callable[[str], bool] | None'\u001b[0m \u001b[0;34m=\u001b[0m \u001b[0;32mNone\u001b[0m\u001b[0;34m,\u001b[0m\u001b[0;34m\u001b[0m\n",
       "\u001b[0;34m\u001b[0m    \u001b[0mdtype\u001b[0m\u001b[0;34m:\u001b[0m \u001b[0;34m'DtypeArg | None'\u001b[0m \u001b[0;34m=\u001b[0m \u001b[0;32mNone\u001b[0m\u001b[0;34m,\u001b[0m\u001b[0;34m\u001b[0m\n",
       "\u001b[0;34m\u001b[0m    \u001b[0mengine\u001b[0m\u001b[0;34m:\u001b[0m \u001b[0;34m\"Literal['xlrd', 'openpyxl', 'odf', 'pyxlsb', 'calamine'] | None\"\u001b[0m \u001b[0;34m=\u001b[0m \u001b[0;32mNone\u001b[0m\u001b[0;34m,\u001b[0m\u001b[0;34m\u001b[0m\n",
       "\u001b[0;34m\u001b[0m    \u001b[0mconverters\u001b[0m\u001b[0;34m:\u001b[0m \u001b[0;34m'dict[str, Callable] | dict[int, Callable] | None'\u001b[0m \u001b[0;34m=\u001b[0m \u001b[0;32mNone\u001b[0m\u001b[0;34m,\u001b[0m\u001b[0;34m\u001b[0m\n",
       "\u001b[0;34m\u001b[0m    \u001b[0mtrue_values\u001b[0m\u001b[0;34m:\u001b[0m \u001b[0;34m'Iterable[Hashable] | None'\u001b[0m \u001b[0;34m=\u001b[0m \u001b[0;32mNone\u001b[0m\u001b[0;34m,\u001b[0m\u001b[0;34m\u001b[0m\n",
       "\u001b[0;34m\u001b[0m    \u001b[0mfalse_values\u001b[0m\u001b[0;34m:\u001b[0m \u001b[0;34m'Iterable[Hashable] | None'\u001b[0m \u001b[0;34m=\u001b[0m \u001b[0;32mNone\u001b[0m\u001b[0;34m,\u001b[0m\u001b[0;34m\u001b[0m\n",
       "\u001b[0;34m\u001b[0m    \u001b[0mskiprows\u001b[0m\u001b[0;34m:\u001b[0m \u001b[0;34m'Sequence[int] | int | Callable[[int], object] | None'\u001b[0m \u001b[0;34m=\u001b[0m \u001b[0;32mNone\u001b[0m\u001b[0;34m,\u001b[0m\u001b[0;34m\u001b[0m\n",
       "\u001b[0;34m\u001b[0m    \u001b[0mnrows\u001b[0m\u001b[0;34m:\u001b[0m \u001b[0;34m'int | None'\u001b[0m \u001b[0;34m=\u001b[0m \u001b[0;32mNone\u001b[0m\u001b[0;34m,\u001b[0m\u001b[0;34m\u001b[0m\n",
       "\u001b[0;34m\u001b[0m    \u001b[0mna_values\u001b[0m\u001b[0;34m=\u001b[0m\u001b[0;32mNone\u001b[0m\u001b[0;34m,\u001b[0m\u001b[0;34m\u001b[0m\n",
       "\u001b[0;34m\u001b[0m    \u001b[0mkeep_default_na\u001b[0m\u001b[0;34m:\u001b[0m \u001b[0;34m'bool'\u001b[0m \u001b[0;34m=\u001b[0m \u001b[0;32mTrue\u001b[0m\u001b[0;34m,\u001b[0m\u001b[0;34m\u001b[0m\n",
       "\u001b[0;34m\u001b[0m    \u001b[0mna_filter\u001b[0m\u001b[0;34m:\u001b[0m \u001b[0;34m'bool'\u001b[0m \u001b[0;34m=\u001b[0m \u001b[0;32mTrue\u001b[0m\u001b[0;34m,\u001b[0m\u001b[0;34m\u001b[0m\n",
       "\u001b[0;34m\u001b[0m    \u001b[0mverbose\u001b[0m\u001b[0;34m:\u001b[0m \u001b[0;34m'bool'\u001b[0m \u001b[0;34m=\u001b[0m \u001b[0;32mFalse\u001b[0m\u001b[0;34m,\u001b[0m\u001b[0;34m\u001b[0m\n",
       "\u001b[0;34m\u001b[0m    \u001b[0mparse_dates\u001b[0m\u001b[0;34m:\u001b[0m \u001b[0;34m'list | dict | bool'\u001b[0m \u001b[0;34m=\u001b[0m \u001b[0;32mFalse\u001b[0m\u001b[0;34m,\u001b[0m\u001b[0;34m\u001b[0m\n",
       "\u001b[0;34m\u001b[0m    \u001b[0mdate_parser\u001b[0m\u001b[0;34m:\u001b[0m \u001b[0;34m'Callable | lib.NoDefault'\u001b[0m \u001b[0;34m=\u001b[0m \u001b[0;34m<\u001b[0m\u001b[0mno_default\u001b[0m\u001b[0;34m>\u001b[0m\u001b[0;34m,\u001b[0m\u001b[0;34m\u001b[0m\n",
       "\u001b[0;34m\u001b[0m    \u001b[0mdate_format\u001b[0m\u001b[0;34m:\u001b[0m \u001b[0;34m'dict[Hashable, str] | str | None'\u001b[0m \u001b[0;34m=\u001b[0m \u001b[0;32mNone\u001b[0m\u001b[0;34m,\u001b[0m\u001b[0;34m\u001b[0m\n",
       "\u001b[0;34m\u001b[0m    \u001b[0mthousands\u001b[0m\u001b[0;34m:\u001b[0m \u001b[0;34m'str | None'\u001b[0m \u001b[0;34m=\u001b[0m \u001b[0;32mNone\u001b[0m\u001b[0;34m,\u001b[0m\u001b[0;34m\u001b[0m\n",
       "\u001b[0;34m\u001b[0m    \u001b[0mdecimal\u001b[0m\u001b[0;34m:\u001b[0m \u001b[0;34m'str'\u001b[0m \u001b[0;34m=\u001b[0m \u001b[0;34m'.'\u001b[0m\u001b[0;34m,\u001b[0m\u001b[0;34m\u001b[0m\n",
       "\u001b[0;34m\u001b[0m    \u001b[0mcomment\u001b[0m\u001b[0;34m:\u001b[0m \u001b[0;34m'str | None'\u001b[0m \u001b[0;34m=\u001b[0m \u001b[0;32mNone\u001b[0m\u001b[0;34m,\u001b[0m\u001b[0;34m\u001b[0m\n",
       "\u001b[0;34m\u001b[0m    \u001b[0mskipfooter\u001b[0m\u001b[0;34m:\u001b[0m \u001b[0;34m'int'\u001b[0m \u001b[0;34m=\u001b[0m \u001b[0;36m0\u001b[0m\u001b[0;34m,\u001b[0m\u001b[0;34m\u001b[0m\n",
       "\u001b[0;34m\u001b[0m    \u001b[0mstorage_options\u001b[0m\u001b[0;34m:\u001b[0m \u001b[0;34m'StorageOptions | None'\u001b[0m \u001b[0;34m=\u001b[0m \u001b[0;32mNone\u001b[0m\u001b[0;34m,\u001b[0m\u001b[0;34m\u001b[0m\n",
       "\u001b[0;34m\u001b[0m    \u001b[0mdtype_backend\u001b[0m\u001b[0;34m:\u001b[0m \u001b[0;34m'DtypeBackend | lib.NoDefault'\u001b[0m \u001b[0;34m=\u001b[0m \u001b[0;34m<\u001b[0m\u001b[0mno_default\u001b[0m\u001b[0;34m>\u001b[0m\u001b[0;34m,\u001b[0m\u001b[0;34m\u001b[0m\n",
       "\u001b[0;34m\u001b[0m    \u001b[0mengine_kwargs\u001b[0m\u001b[0;34m:\u001b[0m \u001b[0;34m'dict | None'\u001b[0m \u001b[0;34m=\u001b[0m \u001b[0;32mNone\u001b[0m\u001b[0;34m,\u001b[0m\u001b[0;34m\u001b[0m\n",
       "\u001b[0;34m\u001b[0m\u001b[0;34m)\u001b[0m \u001b[0;34m->\u001b[0m \u001b[0;34m'DataFrame | dict[IntStrT, DataFrame]'\u001b[0m\u001b[0;34m\u001b[0m\u001b[0;34m\u001b[0m\u001b[0m\n",
       "\u001b[0;31mDocstring:\u001b[0m\n",
       "Read an Excel file into a ``pandas`` ``DataFrame``.\n",
       "\n",
       "Supports `xls`, `xlsx`, `xlsm`, `xlsb`, `odf`, `ods` and `odt` file extensions\n",
       "read from a local filesystem or URL. Supports an option to read\n",
       "a single sheet or a list of sheets.\n",
       "\n",
       "Parameters\n",
       "----------\n",
       "io : str, bytes, ExcelFile, xlrd.Book, path object, or file-like object\n",
       "    Any valid string path is acceptable. The string could be a URL. Valid\n",
       "    URL schemes include http, ftp, s3, and file. For file URLs, a host is\n",
       "    expected. A local file could be: ``file://localhost/path/to/table.xlsx``.\n",
       "\n",
       "    If you want to pass in a path object, pandas accepts any ``os.PathLike``.\n",
       "\n",
       "    By file-like object, we refer to objects with a ``read()`` method,\n",
       "    such as a file handle (e.g. via builtin ``open`` function)\n",
       "    or ``StringIO``.\n",
       "\n",
       "    .. deprecated:: 2.1.0\n",
       "        Passing byte strings is deprecated. To read from a\n",
       "        byte string, wrap it in a ``BytesIO`` object.\n",
       "sheet_name : str, int, list, or None, default 0\n",
       "    Strings are used for sheet names. Integers are used in zero-indexed\n",
       "    sheet positions (chart sheets do not count as a sheet position).\n",
       "    Lists of strings/integers are used to request multiple sheets.\n",
       "    Specify ``None`` to get all worksheets.\n",
       "\n",
       "    Available cases:\n",
       "\n",
       "    * Defaults to ``0``: 1st sheet as a `DataFrame`\n",
       "    * ``1``: 2nd sheet as a `DataFrame`\n",
       "    * ``\"Sheet1\"``: Load sheet with name \"Sheet1\"\n",
       "    * ``[0, 1, \"Sheet5\"]``: Load first, second and sheet named \"Sheet5\"\n",
       "      as a dict of `DataFrame`\n",
       "    * ``None``: All worksheets.\n",
       "\n",
       "header : int, list of int, default 0\n",
       "    Row (0-indexed) to use for the column labels of the parsed\n",
       "    DataFrame. If a list of integers is passed those row positions will\n",
       "    be combined into a ``MultiIndex``. Use None if there is no header.\n",
       "names : array-like, default None\n",
       "    List of column names to use. If file contains no header row,\n",
       "    then you should explicitly pass header=None.\n",
       "index_col : int, str, list of int, default None\n",
       "    Column (0-indexed) to use as the row labels of the DataFrame.\n",
       "    Pass None if there is no such column.  If a list is passed,\n",
       "    those columns will be combined into a ``MultiIndex``.  If a\n",
       "    subset of data is selected with ``usecols``, index_col\n",
       "    is based on the subset.\n",
       "\n",
       "    Missing values will be forward filled to allow roundtripping with\n",
       "    ``to_excel`` for ``merged_cells=True``. To avoid forward filling the\n",
       "    missing values use ``set_index`` after reading the data instead of\n",
       "    ``index_col``.\n",
       "usecols : str, list-like, or callable, default None\n",
       "    * If None, then parse all columns.\n",
       "    * If str, then indicates comma separated list of Excel column letters\n",
       "      and column ranges (e.g. \"A:E\" or \"A,C,E:F\"). Ranges are inclusive of\n",
       "      both sides.\n",
       "    * If list of int, then indicates list of column numbers to be parsed\n",
       "      (0-indexed).\n",
       "    * If list of string, then indicates list of column names to be parsed.\n",
       "    * If callable, then evaluate each column name against it and parse the\n",
       "      column if the callable returns ``True``.\n",
       "\n",
       "    Returns a subset of the columns according to behavior above.\n",
       "dtype : Type name or dict of column -> type, default None\n",
       "    Data type for data or columns. E.g. {'a': np.float64, 'b': np.int32}\n",
       "    Use ``object`` to preserve data as stored in Excel and not interpret dtype,\n",
       "    which will necessarily result in ``object`` dtype.\n",
       "    If converters are specified, they will be applied INSTEAD\n",
       "    of dtype conversion.\n",
       "    If you use ``None``, it will infer the dtype of each column based on the data.\n",
       "engine : {'openpyxl', 'calamine', 'odf', 'pyxlsb', 'xlrd'}, default None\n",
       "    If io is not a buffer or path, this must be set to identify io.\n",
       "    Engine compatibility :\n",
       "\n",
       "    - ``openpyxl`` supports newer Excel file formats.\n",
       "    - ``calamine`` supports Excel (.xls, .xlsx, .xlsm, .xlsb)\n",
       "      and OpenDocument (.ods) file formats.\n",
       "    - ``odf`` supports OpenDocument file formats (.odf, .ods, .odt).\n",
       "    - ``pyxlsb`` supports Binary Excel files.\n",
       "    - ``xlrd`` supports old-style Excel files (.xls).\n",
       "\n",
       "    When ``engine=None``, the following logic will be used to determine the engine:\n",
       "\n",
       "    - If ``path_or_buffer`` is an OpenDocument format (.odf, .ods, .odt),\n",
       "      then `odf <https://pypi.org/project/odfpy/>`_ will be used.\n",
       "    - Otherwise if ``path_or_buffer`` is an xls format, ``xlrd`` will be used.\n",
       "    - Otherwise if ``path_or_buffer`` is in xlsb format, ``pyxlsb`` will be used.\n",
       "    - Otherwise ``openpyxl`` will be used.\n",
       "converters : dict, default None\n",
       "    Dict of functions for converting values in certain columns. Keys can\n",
       "    either be integers or column labels, values are functions that take one\n",
       "    input argument, the Excel cell content, and return the transformed\n",
       "    content.\n",
       "true_values : list, default None\n",
       "    Values to consider as True.\n",
       "false_values : list, default None\n",
       "    Values to consider as False.\n",
       "skiprows : list-like, int, or callable, optional\n",
       "    Line numbers to skip (0-indexed) or number of lines to skip (int) at the\n",
       "    start of the file. If callable, the callable function will be evaluated\n",
       "    against the row indices, returning True if the row should be skipped and\n",
       "    False otherwise. An example of a valid callable argument would be ``lambda\n",
       "    x: x in [0, 2]``.\n",
       "nrows : int, default None\n",
       "    Number of rows to parse.\n",
       "na_values : scalar, str, list-like, or dict, default None\n",
       "    Additional strings to recognize as NA/NaN. If dict passed, specific\n",
       "    per-column NA values. By default the following values are interpreted\n",
       "    as NaN: '', '#N/A', '#N/A N/A', '#NA', '-1.#IND', '-1.#QNAN', '-NaN', '-nan',\n",
       "    '1.#IND', '1.#QNAN', '<NA>', 'N/A', 'NA', 'NULL', 'NaN', 'None',\n",
       "    'n/a', 'nan', 'null'.\n",
       "keep_default_na : bool, default True\n",
       "    Whether or not to include the default NaN values when parsing the data.\n",
       "    Depending on whether ``na_values`` is passed in, the behavior is as follows:\n",
       "\n",
       "    * If ``keep_default_na`` is True, and ``na_values`` are specified,\n",
       "      ``na_values`` is appended to the default NaN values used for parsing.\n",
       "    * If ``keep_default_na`` is True, and ``na_values`` are not specified, only\n",
       "      the default NaN values are used for parsing.\n",
       "    * If ``keep_default_na`` is False, and ``na_values`` are specified, only\n",
       "      the NaN values specified ``na_values`` are used for parsing.\n",
       "    * If ``keep_default_na`` is False, and ``na_values`` are not specified, no\n",
       "      strings will be parsed as NaN.\n",
       "\n",
       "    Note that if `na_filter` is passed in as False, the ``keep_default_na`` and\n",
       "    ``na_values`` parameters will be ignored.\n",
       "na_filter : bool, default True\n",
       "    Detect missing value markers (empty strings and the value of na_values). In\n",
       "    data without any NAs, passing ``na_filter=False`` can improve the\n",
       "    performance of reading a large file.\n",
       "verbose : bool, default False\n",
       "    Indicate number of NA values placed in non-numeric columns.\n",
       "parse_dates : bool, list-like, or dict, default False\n",
       "    The behavior is as follows:\n",
       "\n",
       "    * ``bool``. If True -> try parsing the index.\n",
       "    * ``list`` of int or names. e.g. If [1, 2, 3] -> try parsing columns 1, 2, 3\n",
       "      each as a separate date column.\n",
       "    * ``list`` of lists. e.g.  If [[1, 3]] -> combine columns 1 and 3 and parse as\n",
       "      a single date column.\n",
       "    * ``dict``, e.g. {'foo' : [1, 3]} -> parse columns 1, 3 as date and call\n",
       "      result 'foo'\n",
       "\n",
       "    If a column or index contains an unparsable date, the entire column or\n",
       "    index will be returned unaltered as an object data type. If you don`t want to\n",
       "    parse some cells as date just change their type in Excel to \"Text\".\n",
       "    For non-standard datetime parsing, use ``pd.to_datetime`` after ``pd.read_excel``.\n",
       "\n",
       "    Note: A fast-path exists for iso8601-formatted dates.\n",
       "date_parser : function, optional\n",
       "    Function to use for converting a sequence of string columns to an array of\n",
       "    datetime instances. The default uses ``dateutil.parser.parser`` to do the\n",
       "    conversion. Pandas will try to call `date_parser` in three different ways,\n",
       "    advancing to the next if an exception occurs: 1) Pass one or more arrays\n",
       "    (as defined by `parse_dates`) as arguments; 2) concatenate (row-wise) the\n",
       "    string values from the columns defined by `parse_dates` into a single array\n",
       "    and pass that; and 3) call `date_parser` once for each row using one or\n",
       "    more strings (corresponding to the columns defined by `parse_dates`) as\n",
       "    arguments.\n",
       "\n",
       "    .. deprecated:: 2.0.0\n",
       "       Use ``date_format`` instead, or read in as ``object`` and then apply\n",
       "       :func:`to_datetime` as-needed.\n",
       "date_format : str or dict of column -> format, default ``None``\n",
       "   If used in conjunction with ``parse_dates``, will parse dates according to this\n",
       "   format. For anything more complex,\n",
       "   please read in as ``object`` and then apply :func:`to_datetime` as-needed.\n",
       "\n",
       "   .. versionadded:: 2.0.0\n",
       "thousands : str, default None\n",
       "    Thousands separator for parsing string columns to numeric.  Note that\n",
       "    this parameter is only necessary for columns stored as TEXT in Excel,\n",
       "    any numeric columns will automatically be parsed, regardless of display\n",
       "    format.\n",
       "decimal : str, default '.'\n",
       "    Character to recognize as decimal point for parsing string columns to numeric.\n",
       "    Note that this parameter is only necessary for columns stored as TEXT in Excel,\n",
       "    any numeric columns will automatically be parsed, regardless of display\n",
       "    format.(e.g. use ',' for European data).\n",
       "\n",
       "    .. versionadded:: 1.4.0\n",
       "\n",
       "comment : str, default None\n",
       "    Comments out remainder of line. Pass a character or characters to this\n",
       "    argument to indicate comments in the input file. Any data between the\n",
       "    comment string and the end of the current line is ignored.\n",
       "skipfooter : int, default 0\n",
       "    Rows at the end to skip (0-indexed).\n",
       "storage_options : dict, optional\n",
       "    Extra options that make sense for a particular storage connection, e.g.\n",
       "    host, port, username, password, etc. For HTTP(S) URLs the key-value pairs\n",
       "    are forwarded to ``urllib.request.Request`` as header options. For other\n",
       "    URLs (e.g. starting with \"s3://\", and \"gcs://\") the key-value pairs are\n",
       "    forwarded to ``fsspec.open``. Please see ``fsspec`` and ``urllib`` for more\n",
       "    details, and for more examples on storage options refer `here\n",
       "    <https://pandas.pydata.org/docs/user_guide/io.html?\n",
       "    highlight=storage_options#reading-writing-remote-files>`_.\n",
       "\n",
       "dtype_backend : {'numpy_nullable', 'pyarrow'}, default 'numpy_nullable'\n",
       "    Back-end data type applied to the resultant :class:`DataFrame`\n",
       "    (still experimental). Behaviour is as follows:\n",
       "\n",
       "    * ``\"numpy_nullable\"``: returns nullable-dtype-backed :class:`DataFrame`\n",
       "      (default).\n",
       "    * ``\"pyarrow\"``: returns pyarrow-backed nullable :class:`ArrowDtype`\n",
       "      DataFrame.\n",
       "\n",
       "    .. versionadded:: 2.0\n",
       "\n",
       "engine_kwargs : dict, optional\n",
       "    Arbitrary keyword arguments passed to excel engine.\n",
       "\n",
       "Returns\n",
       "-------\n",
       "DataFrame or dict of DataFrames\n",
       "    DataFrame from the passed in Excel file. See notes in sheet_name\n",
       "    argument for more information on when a dict of DataFrames is returned.\n",
       "\n",
       "See Also\n",
       "--------\n",
       "DataFrame.to_excel : Write DataFrame to an Excel file.\n",
       "DataFrame.to_csv : Write DataFrame to a comma-separated values (csv) file.\n",
       "read_csv : Read a comma-separated values (csv) file into DataFrame.\n",
       "read_fwf : Read a table of fixed-width formatted lines into DataFrame.\n",
       "\n",
       "Notes\n",
       "-----\n",
       "For specific information on the methods used for each Excel engine, refer to the pandas\n",
       ":ref:`user guide <io.excel_reader>`\n",
       "\n",
       "Examples\n",
       "--------\n",
       "The file can be read using the file name as string or an open file object:\n",
       "\n",
       ">>> pd.read_excel('tmp.xlsx', index_col=0)  # doctest: +SKIP\n",
       "       Name  Value\n",
       "0   string1      1\n",
       "1   string2      2\n",
       "2  #Comment      3\n",
       "\n",
       ">>> pd.read_excel(open('tmp.xlsx', 'rb'),\n",
       "...               sheet_name='Sheet3')  # doctest: +SKIP\n",
       "   Unnamed: 0      Name  Value\n",
       "0           0   string1      1\n",
       "1           1   string2      2\n",
       "2           2  #Comment      3\n",
       "\n",
       "Index and header can be specified via the `index_col` and `header` arguments\n",
       "\n",
       ">>> pd.read_excel('tmp.xlsx', index_col=None, header=None)  # doctest: +SKIP\n",
       "     0         1      2\n",
       "0  NaN      Name  Value\n",
       "1  0.0   string1      1\n",
       "2  1.0   string2      2\n",
       "3  2.0  #Comment      3\n",
       "\n",
       "Column types are inferred but can be explicitly specified\n",
       "\n",
       ">>> pd.read_excel('tmp.xlsx', index_col=0,\n",
       "...               dtype={'Name': str, 'Value': float})  # doctest: +SKIP\n",
       "       Name  Value\n",
       "0   string1    1.0\n",
       "1   string2    2.0\n",
       "2  #Comment    3.0\n",
       "\n",
       "True, False, and NA values, and thousands separators have defaults,\n",
       "but can be explicitly specified, too. Supply the values you would like\n",
       "as strings or lists of strings!\n",
       "\n",
       ">>> pd.read_excel('tmp.xlsx', index_col=0,\n",
       "...               na_values=['string1', 'string2'])  # doctest: +SKIP\n",
       "       Name  Value\n",
       "0       NaN      1\n",
       "1       NaN      2\n",
       "2  #Comment      3\n",
       "\n",
       "Comment lines in the excel input file can be skipped using the\n",
       "``comment`` kwarg.\n",
       "\n",
       ">>> pd.read_excel('tmp.xlsx', index_col=0, comment='#')  # doctest: +SKIP\n",
       "      Name  Value\n",
       "0  string1    1.0\n",
       "1  string2    2.0\n",
       "2     None    NaN\n",
       "\u001b[0;31mFile:\u001b[0m      ~/anaconda3/envs/DATA101/lib/python3.12/site-packages/pandas/io/excel/_base.py\n",
       "\u001b[0;31mType:\u001b[0m      function"
      ]
     },
     "metadata": {},
     "output_type": "display_data"
    }
   ],
   "source": [
    "pd.read_excel?"
   ]
  },
  {
   "cell_type": "markdown",
   "id": "1807b77b-2009-4f10-b05d-c20f17f13cf8",
   "metadata": {},
   "source": [
    "Try writing your own code that will read in the data, skipping three rows, so that it looks like this:\n",
    "\n",
    "![DataFrame2](images/DF2.png)\n",
    "\n"
   ]
  },
  {
   "cell_type": "markdown",
   "id": "9a3f0875-eca9-4627-a845-de7827d5503a",
   "metadata": {},
   "source": [
    "### 3. This is better, but let's rename the columns\n",
    "\n",
    "In the lecture above we learned how to rename columns. Rename the columns in this DataFrame so that 'Unnamed: 0' becomes 'id' and 'Unnamed: 1' becomes 'n'. Your DataFrame should look like\n",
    "\n",
    "![DataFrame3](images/DF3.png)\n",
    "\n"
   ]
  },
  {
   "cell_type": "code",
   "execution_count": 69,
   "id": "52a0602c-ea30-4417-858d-62e0e6ceb3b1",
   "metadata": {},
   "outputs": [
    {
     "data": {
      "text/html": [
       "<div>\n",
       "<style scoped>\n",
       "    .dataframe tbody tr th:only-of-type {\n",
       "        vertical-align: middle;\n",
       "    }\n",
       "\n",
       "    .dataframe tbody tr th {\n",
       "        vertical-align: top;\n",
       "    }\n",
       "\n",
       "    .dataframe thead th {\n",
       "        text-align: right;\n",
       "    }\n",
       "</style>\n",
       "<table border=\"1\" class=\"dataframe\">\n",
       "  <thead>\n",
       "    <tr style=\"text-align: right;\">\n",
       "      <th></th>\n",
       "      <th>id</th>\n",
       "      <th>n</th>\n",
       "    </tr>\n",
       "  </thead>\n",
       "  <tbody>\n",
       "    <tr>\n",
       "      <th>0</th>\n",
       "      <td>Brand 1</td>\n",
       "      <td>n</td>\n",
       "    </tr>\n",
       "    <tr>\n",
       "      <th>1</th>\n",
       "      <td>1234</td>\n",
       "      <td>8</td>\n",
       "    </tr>\n",
       "    <tr>\n",
       "      <th>2</th>\n",
       "      <td>8721</td>\n",
       "      <td>2</td>\n",
       "    </tr>\n",
       "    <tr>\n",
       "      <th>3</th>\n",
       "      <td>1822</td>\n",
       "      <td>3</td>\n",
       "    </tr>\n",
       "    <tr>\n",
       "      <th>4</th>\n",
       "      <td>Brand 2</td>\n",
       "      <td>n</td>\n",
       "    </tr>\n",
       "    <tr>\n",
       "      <th>5</th>\n",
       "      <td>3333</td>\n",
       "      <td>1</td>\n",
       "    </tr>\n",
       "    <tr>\n",
       "      <th>6</th>\n",
       "      <td>2156</td>\n",
       "      <td>3</td>\n",
       "    </tr>\n",
       "    <tr>\n",
       "      <th>7</th>\n",
       "      <td>3987</td>\n",
       "      <td>6</td>\n",
       "    </tr>\n",
       "    <tr>\n",
       "      <th>8</th>\n",
       "      <td>3216</td>\n",
       "      <td>5</td>\n",
       "    </tr>\n",
       "  </tbody>\n",
       "</table>\n",
       "</div>"
      ],
      "text/plain": [
       "        id  n\n",
       "0  Brand 1  n\n",
       "1     1234  8\n",
       "2     8721  2\n",
       "3     1822  3\n",
       "4  Brand 2  n\n",
       "5     3333  1\n",
       "6     2156  3\n",
       "7     3987  6\n",
       "8     3216  5"
      ]
     },
     "execution_count": 69,
     "metadata": {},
     "output_type": "execute_result"
    }
   ],
   "source": [
    "DFsale.rename(columns={ 'Unnamed: 0':'id' ,'Unnamed: 1' : 'n' },inplace=True)\n",
    "DFsale"
   ]
  },
  {
   "cell_type": "markdown",
   "id": "5e464859-768a-4407-9c97-16564643dd2a",
   "metadata": {},
   "source": [
    "### 4. This is better, but....\n",
    "\n",
    "This is not yet a tidy data frame. Why not?\n"
   ]
  },
  {
   "cell_type": "markdown",
   "id": "61c0d665-e879-4cc0-a81e-c662b99f6388",
   "metadata": {},
   "source": [
    "Still has column names/headers as data. "
   ]
  },
  {
   "cell_type": "markdown",
   "id": "4888a9a2-66aa-488f-a3fe-e4920dc5f22a",
   "metadata": {},
   "source": [
    "\n",
    "**How do we make it tidy?**\n",
    "\n",
    "We need to manipulate the data so that we have three columns. The brand, the id, and then the number of sales, but the brand information is mixed up in the id row. We are going to use the following command:\n",
    "\n",
    "    brand_data = DF['id'].apply(lambda x: x if 'Brand' in str(x) else np.nan)\n",
    "\n",
    "Tell me what each part of this command does. For example break down each piece:\n",
    "\n",
    "a. DF['id']\n",
    "\n",
    "This specifies the column the fuction will look in\n",
    "\n",
    "b. .apply()\n",
    "\n",
    "This applies the funtion to all rows within the column\n",
    "\n",
    "c. lambda x: x if 'Brand' in str(x) else np.nan\n",
    "\n",
    "If 'Brand' is present function returns x, if not returns nan or not a number\n",
    "\n",
    "HINT1 - here you see something new and if else statement.  \n",
    "\n",
    "- The command **'Brand' in str(x)** will check to see if the word 'Brand' is in each row. This will return True or False.\n",
    "- To test this try **DF['id'].apply(lambda x: 'Brand' in str(x))** in a separate cell.\n",
    "- The **if** statement checks to see if **'Brand' in str(x)** is True. If it is true it returns the x (original data). Otherwise it returns **np.nan**\n",
    "- **np.nan** is how we can get Not a Number."
   ]
  },
  {
   "cell_type": "code",
   "execution_count": 75,
   "id": "c1749848-4ab7-4dbe-ab6c-39a820e28d42",
   "metadata": {},
   "outputs": [
    {
     "data": {
      "text/plain": [
       "0    Brand 1\n",
       "1        NaN\n",
       "2        NaN\n",
       "3        NaN\n",
       "4    Brand 2\n",
       "5        NaN\n",
       "6        NaN\n",
       "7        NaN\n",
       "8        NaN\n",
       "Name: id, dtype: object"
      ]
     },
     "execution_count": 75,
     "metadata": {},
     "output_type": "execute_result"
    }
   ],
   "source": [
    "# Now just run the command\n",
    "brand_data = DFsale['id'].apply(lambda x: x if 'Brand' in str(x) else np.nan)\n",
    "brand_data"
   ]
  },
  {
   "cell_type": "markdown",
   "id": "d0e4832e-fa0a-4541-8bb6-548bc3a9eca4",
   "metadata": {},
   "source": [
    "### 5. Create a new empty column to store our brand_data\n",
    "\n",
    "You should know how to add a new column to a data frame. Use the column name 'brand'.\n"
   ]
  },
  {
   "cell_type": "code",
   "execution_count": 78,
   "id": "c8c9d26d-4307-4234-919e-9f4f7cca402c",
   "metadata": {},
   "outputs": [
    {
     "data": {
      "text/html": [
       "<div>\n",
       "<style scoped>\n",
       "    .dataframe tbody tr th:only-of-type {\n",
       "        vertical-align: middle;\n",
       "    }\n",
       "\n",
       "    .dataframe tbody tr th {\n",
       "        vertical-align: top;\n",
       "    }\n",
       "\n",
       "    .dataframe thead th {\n",
       "        text-align: right;\n",
       "    }\n",
       "</style>\n",
       "<table border=\"1\" class=\"dataframe\">\n",
       "  <thead>\n",
       "    <tr style=\"text-align: right;\">\n",
       "      <th></th>\n",
       "      <th>id</th>\n",
       "      <th>n</th>\n",
       "      <th>brand</th>\n",
       "    </tr>\n",
       "  </thead>\n",
       "  <tbody>\n",
       "    <tr>\n",
       "      <th>0</th>\n",
       "      <td>Brand 1</td>\n",
       "      <td>n</td>\n",
       "      <td>Brand 1</td>\n",
       "    </tr>\n",
       "    <tr>\n",
       "      <th>1</th>\n",
       "      <td>1234</td>\n",
       "      <td>8</td>\n",
       "      <td>NaN</td>\n",
       "    </tr>\n",
       "    <tr>\n",
       "      <th>2</th>\n",
       "      <td>8721</td>\n",
       "      <td>2</td>\n",
       "      <td>NaN</td>\n",
       "    </tr>\n",
       "    <tr>\n",
       "      <th>3</th>\n",
       "      <td>1822</td>\n",
       "      <td>3</td>\n",
       "      <td>NaN</td>\n",
       "    </tr>\n",
       "    <tr>\n",
       "      <th>4</th>\n",
       "      <td>Brand 2</td>\n",
       "      <td>n</td>\n",
       "      <td>Brand 2</td>\n",
       "    </tr>\n",
       "    <tr>\n",
       "      <th>5</th>\n",
       "      <td>3333</td>\n",
       "      <td>1</td>\n",
       "      <td>NaN</td>\n",
       "    </tr>\n",
       "    <tr>\n",
       "      <th>6</th>\n",
       "      <td>2156</td>\n",
       "      <td>3</td>\n",
       "      <td>NaN</td>\n",
       "    </tr>\n",
       "    <tr>\n",
       "      <th>7</th>\n",
       "      <td>3987</td>\n",
       "      <td>6</td>\n",
       "      <td>NaN</td>\n",
       "    </tr>\n",
       "    <tr>\n",
       "      <th>8</th>\n",
       "      <td>3216</td>\n",
       "      <td>5</td>\n",
       "      <td>NaN</td>\n",
       "    </tr>\n",
       "  </tbody>\n",
       "</table>\n",
       "</div>"
      ],
      "text/plain": [
       "        id  n    brand\n",
       "0  Brand 1  n  Brand 1\n",
       "1     1234  8      NaN\n",
       "2     8721  2      NaN\n",
       "3     1822  3      NaN\n",
       "4  Brand 2  n  Brand 2\n",
       "5     3333  1      NaN\n",
       "6     2156  3      NaN\n",
       "7     3987  6      NaN\n",
       "8     3216  5      NaN"
      ]
     },
     "execution_count": 78,
     "metadata": {},
     "output_type": "execute_result"
    }
   ],
   "source": [
    "DFsale['brand'] = brand_data\n",
    "DFsale"
   ]
  },
  {
   "cell_type": "markdown",
   "id": "8733dad9-1a3c-4665-915d-f0318493ca94",
   "metadata": {},
   "source": [
    "### 6. Lets fill up those NaNs with the brand information\n",
    "\n",
    "The command **.ffill()** works like magic! It goes down the column and will fill any NaNs with the information from the cells above, until it gets to another good value. Check out what this command does!\n",
    "\n",
    "```{python}\n",
    "DF=DF.ffill()\n",
    "```\n",
    "\n",
    "Your data frame should look like\n",
    "\n",
    "![DataFrame4](images/DF4.png)"
   ]
  },
  {
   "cell_type": "code",
   "execution_count": 82,
   "id": "5f6e53aa-f13a-4399-b678-5482ba12c3d8",
   "metadata": {},
   "outputs": [
    {
     "data": {
      "text/html": [
       "<div>\n",
       "<style scoped>\n",
       "    .dataframe tbody tr th:only-of-type {\n",
       "        vertical-align: middle;\n",
       "    }\n",
       "\n",
       "    .dataframe tbody tr th {\n",
       "        vertical-align: top;\n",
       "    }\n",
       "\n",
       "    .dataframe thead th {\n",
       "        text-align: right;\n",
       "    }\n",
       "</style>\n",
       "<table border=\"1\" class=\"dataframe\">\n",
       "  <thead>\n",
       "    <tr style=\"text-align: right;\">\n",
       "      <th></th>\n",
       "      <th>id</th>\n",
       "      <th>n</th>\n",
       "      <th>brand</th>\n",
       "    </tr>\n",
       "  </thead>\n",
       "  <tbody>\n",
       "    <tr>\n",
       "      <th>0</th>\n",
       "      <td>Brand 1</td>\n",
       "      <td>n</td>\n",
       "      <td>Brand 1</td>\n",
       "    </tr>\n",
       "    <tr>\n",
       "      <th>1</th>\n",
       "      <td>1234</td>\n",
       "      <td>8</td>\n",
       "      <td>Brand 1</td>\n",
       "    </tr>\n",
       "    <tr>\n",
       "      <th>2</th>\n",
       "      <td>8721</td>\n",
       "      <td>2</td>\n",
       "      <td>Brand 1</td>\n",
       "    </tr>\n",
       "    <tr>\n",
       "      <th>3</th>\n",
       "      <td>1822</td>\n",
       "      <td>3</td>\n",
       "      <td>Brand 1</td>\n",
       "    </tr>\n",
       "    <tr>\n",
       "      <th>4</th>\n",
       "      <td>Brand 2</td>\n",
       "      <td>n</td>\n",
       "      <td>Brand 2</td>\n",
       "    </tr>\n",
       "    <tr>\n",
       "      <th>5</th>\n",
       "      <td>3333</td>\n",
       "      <td>1</td>\n",
       "      <td>Brand 2</td>\n",
       "    </tr>\n",
       "    <tr>\n",
       "      <th>6</th>\n",
       "      <td>2156</td>\n",
       "      <td>3</td>\n",
       "      <td>Brand 2</td>\n",
       "    </tr>\n",
       "    <tr>\n",
       "      <th>7</th>\n",
       "      <td>3987</td>\n",
       "      <td>6</td>\n",
       "      <td>Brand 2</td>\n",
       "    </tr>\n",
       "    <tr>\n",
       "      <th>8</th>\n",
       "      <td>3216</td>\n",
       "      <td>5</td>\n",
       "      <td>Brand 2</td>\n",
       "    </tr>\n",
       "  </tbody>\n",
       "</table>\n",
       "</div>"
      ],
      "text/plain": [
       "        id  n    brand\n",
       "0  Brand 1  n  Brand 1\n",
       "1     1234  8  Brand 1\n",
       "2     8721  2  Brand 1\n",
       "3     1822  3  Brand 1\n",
       "4  Brand 2  n  Brand 2\n",
       "5     3333  1  Brand 2\n",
       "6     2156  3  Brand 2\n",
       "7     3987  6  Brand 2\n",
       "8     3216  5  Brand 2"
      ]
     },
     "execution_count": 82,
     "metadata": {},
     "output_type": "execute_result"
    }
   ],
   "source": [
    "DFsale=DFsale.ffill()\n",
    "DFsale"
   ]
  },
  {
   "cell_type": "markdown",
   "id": "be66ba29-f820-4f74-a6c4-78f4cea683fc",
   "metadata": {},
   "source": [
    "### 7. Finally mask out the rows that have bad 'id'\n",
    "\n",
    "Create a mask using \n",
    "\n",
    "    mask = DF['id'].apply(lambda x:'Brand' not in str(x) )\n",
    "\n",
    "then apply that mask to get\n",
    "\n",
    "![DataFrame5](images/DF5.png)"
   ]
  },
  {
   "cell_type": "code",
   "execution_count": 88,
   "id": "73a7efcb-2076-42fd-9dc5-c2046ef3480e",
   "metadata": {},
   "outputs": [],
   "source": [
    "mask = DFsale['id'].apply(lambda x:'Brand' not in str(x) )\n",
    "DFnew = DFsale[mask]"
   ]
  },
  {
   "cell_type": "markdown",
   "id": "b8c05142-566f-43a2-ba14-d663f9964dff",
   "metadata": {},
   "source": [
    "### 7. Now lets pivot!!\n",
    "\n",
    "Try out the **.pivot()** command. See if you can create a DataFrame that looks like this:\n",
    "\n",
    "![DataFrame6](images/DF6.png)\n",
    "\n",
    "    DF_new.pivot(index=???, columns=???,values=???)\n",
    "\n",
    "\n",
    "This is hard! The lecture notes have hints and answers!"
   ]
  },
  {
   "cell_type": "code",
   "execution_count": 96,
   "id": "7f853695-1b82-4834-8ad6-40d7455d73d8",
   "metadata": {},
   "outputs": [
    {
     "name": "stderr",
     "output_type": "stream",
     "text": [
      "/var/folders/46/gckylvdx45x7jqn90yrzsvcm0000gn/T/ipykernel_44861/2538554123.py:2: FutureWarning:\n",
      "\n",
      "Downcasting object dtype arrays on .fillna, .ffill, .bfill is deprecated and will change in a future version. Call result.infer_objects(copy=False) instead. To opt-in to the future behavior, set `pd.set_option('future.no_silent_downcasting', True)`\n",
      "\n"
     ]
    },
    {
     "data": {
      "text/html": [
       "<div>\n",
       "<style scoped>\n",
       "    .dataframe tbody tr th:only-of-type {\n",
       "        vertical-align: middle;\n",
       "    }\n",
       "\n",
       "    .dataframe tbody tr th {\n",
       "        vertical-align: top;\n",
       "    }\n",
       "\n",
       "    .dataframe thead th {\n",
       "        text-align: right;\n",
       "    }\n",
       "</style>\n",
       "<table border=\"1\" class=\"dataframe\">\n",
       "  <thead>\n",
       "    <tr style=\"text-align: right;\">\n",
       "      <th>brand</th>\n",
       "      <th>Brand 1</th>\n",
       "      <th>Brand 2</th>\n",
       "    </tr>\n",
       "    <tr>\n",
       "      <th>id</th>\n",
       "      <th></th>\n",
       "      <th></th>\n",
       "    </tr>\n",
       "  </thead>\n",
       "  <tbody>\n",
       "    <tr>\n",
       "      <th>1234</th>\n",
       "      <td>8</td>\n",
       "      <td>0</td>\n",
       "    </tr>\n",
       "    <tr>\n",
       "      <th>1822</th>\n",
       "      <td>3</td>\n",
       "      <td>0</td>\n",
       "    </tr>\n",
       "    <tr>\n",
       "      <th>2156</th>\n",
       "      <td>0</td>\n",
       "      <td>3</td>\n",
       "    </tr>\n",
       "    <tr>\n",
       "      <th>3216</th>\n",
       "      <td>0</td>\n",
       "      <td>5</td>\n",
       "    </tr>\n",
       "    <tr>\n",
       "      <th>3333</th>\n",
       "      <td>0</td>\n",
       "      <td>1</td>\n",
       "    </tr>\n",
       "    <tr>\n",
       "      <th>3987</th>\n",
       "      <td>0</td>\n",
       "      <td>6</td>\n",
       "    </tr>\n",
       "    <tr>\n",
       "      <th>8721</th>\n",
       "      <td>2</td>\n",
       "      <td>0</td>\n",
       "    </tr>\n",
       "  </tbody>\n",
       "</table>\n",
       "</div>"
      ],
      "text/plain": [
       "brand  Brand 1  Brand 2\n",
       "id                     \n",
       "1234         8        0\n",
       "1822         3        0\n",
       "2156         0        3\n",
       "3216         0        5\n",
       "3333         0        1\n",
       "3987         0        6\n",
       "8721         2        0"
      ]
     },
     "execution_count": 96,
     "metadata": {},
     "output_type": "execute_result"
    }
   ],
   "source": [
    "pivot = DFnew.pivot(index='id', columns='brand',values='n')\n",
    "pivot = pivot.fillna(0)\n",
    "pivot"
   ]
  },
  {
   "cell_type": "code",
   "execution_count": null,
   "id": "3e6eb62d-6d45-4d18-860d-93fb3170eafc",
   "metadata": {},
   "outputs": [],
   "source": []
  },
  {
   "cell_type": "code",
   "execution_count": null,
   "id": "dac822d2-79f5-495e-889b-1f444f61fc7f",
   "metadata": {},
   "outputs": [],
   "source": []
  }
 ],
 "metadata": {
  "kernelspec": {
   "display_name": "Python 3 (ipykernel)",
   "language": "python",
   "name": "python3"
  },
  "language_info": {
   "codemirror_mode": {
    "name": "ipython",
    "version": 3
   },
   "file_extension": ".py",
   "mimetype": "text/x-python",
   "name": "python",
   "nbconvert_exporter": "python",
   "pygments_lexer": "ipython3",
   "version": "3.12.2"
  }
 },
 "nbformat": 4,
 "nbformat_minor": 5
}
